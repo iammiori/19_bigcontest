{
 "cells": [
  {
   "cell_type": "code",
   "execution_count": 1,
   "metadata": {
    "colab": {},
    "colab_type": "code",
    "id": "Y3CFXCSnn7tb"
   },
   "outputs": [],
   "source": [
    "import pandas as pd\n",
    "import numpy as np\n",
    "import os\n",
    "import matplotlib.pyplot as plt\n",
    "import seaborn as sns\n",
    "from collections import Counter\n",
    "import math\n",
    "import glob"
   ]
  },
  {
   "cell_type": "markdown",
   "metadata": {
    "colab_type": "text",
    "id": "TffHPV-0n7tf"
   },
   "source": [
    "# 1. 카드데이터 (08/09기준 업데이트)"
   ]
  },
  {
   "cell_type": "code",
   "execution_count": 2,
   "metadata": {
    "colab": {},
    "colab_type": "code",
    "id": "pc6O2TqUn7tg",
    "outputId": "70a4c630-18ba-479e-c3e8-f835fd64319f"
   },
   "outputs": [
    {
     "data": {
      "text/html": [
       "<div>\n",
       "<style scoped>\n",
       "    .dataframe tbody tr th:only-of-type {\n",
       "        vertical-align: middle;\n",
       "    }\n",
       "\n",
       "    .dataframe tbody tr th {\n",
       "        vertical-align: top;\n",
       "    }\n",
       "\n",
       "    .dataframe thead th {\n",
       "        text-align: right;\n",
       "    }\n",
       "</style>\n",
       "<table border=\"1\" class=\"dataframe\">\n",
       "  <thead>\n",
       "    <tr style=\"text-align: right;\">\n",
       "      <th></th>\n",
       "      <th>STD_DD</th>\n",
       "      <th>GU_CD</th>\n",
       "      <th>DONG_CD</th>\n",
       "      <th>MCT_CAT_CD</th>\n",
       "      <th>SEX_CD</th>\n",
       "      <th>AGE_CD</th>\n",
       "      <th>USE_CNT</th>\n",
       "      <th>USE_AMT</th>\n",
       "    </tr>\n",
       "  </thead>\n",
       "  <tbody>\n",
       "    <tr>\n",
       "      <th>0</th>\n",
       "      <td>20180401</td>\n",
       "      <td>110</td>\n",
       "      <td>515</td>\n",
       "      <td>21</td>\n",
       "      <td>F</td>\n",
       "      <td>30</td>\n",
       "      <td>4</td>\n",
       "      <td>180</td>\n",
       "    </tr>\n",
       "    <tr>\n",
       "      <th>1</th>\n",
       "      <td>20180401</td>\n",
       "      <td>110</td>\n",
       "      <td>515</td>\n",
       "      <td>21</td>\n",
       "      <td>F</td>\n",
       "      <td>55</td>\n",
       "      <td>4</td>\n",
       "      <td>22</td>\n",
       "    </tr>\n",
       "    <tr>\n",
       "      <th>2</th>\n",
       "      <td>20180401</td>\n",
       "      <td>110</td>\n",
       "      <td>515</td>\n",
       "      <td>21</td>\n",
       "      <td>M</td>\n",
       "      <td>20</td>\n",
       "      <td>35</td>\n",
       "      <td>184</td>\n",
       "    </tr>\n",
       "    <tr>\n",
       "      <th>3</th>\n",
       "      <td>20180401</td>\n",
       "      <td>110</td>\n",
       "      <td>515</td>\n",
       "      <td>21</td>\n",
       "      <td>M</td>\n",
       "      <td>25</td>\n",
       "      <td>70</td>\n",
       "      <td>425</td>\n",
       "    </tr>\n",
       "    <tr>\n",
       "      <th>4</th>\n",
       "      <td>20180401</td>\n",
       "      <td>110</td>\n",
       "      <td>515</td>\n",
       "      <td>21</td>\n",
       "      <td>M</td>\n",
       "      <td>30</td>\n",
       "      <td>18</td>\n",
       "      <td>82</td>\n",
       "    </tr>\n",
       "  </tbody>\n",
       "</table>\n",
       "</div>"
      ],
      "text/plain": [
       "     STD_DD  GU_CD  DONG_CD  MCT_CAT_CD SEX_CD  AGE_CD  USE_CNT  USE_AMT\n",
       "0  20180401    110      515          21      F      30        4      180\n",
       "1  20180401    110      515          21      F      55        4       22\n",
       "2  20180401    110      515          21      M      20       35      184\n",
       "3  20180401    110      515          21      M      25       70      425\n",
       "4  20180401    110      515          21      M      30       18       82"
      ]
     },
     "execution_count": 2,
     "metadata": {},
     "output_type": "execute_result"
    }
   ],
   "source": [
    "df_card = pd.read_csv(\"CARD_SPENDING_190809.txt\",sep='\\t') \n",
    "#빅콘측에서 8월9일 카드데이터 업데이트함\n",
    "\n",
    "df_card.head()"
   ]
  },
  {
   "cell_type": "code",
   "execution_count": null,
   "metadata": {
    "colab": {},
    "colab_type": "code",
    "id": "VyLPVO-3n7tk"
   },
   "outputs": [],
   "source": [
    "#df_card.isnull().any() \n",
    "#각 변수별로 결측값은 존재하지 않음\n",
    "#np.trunc(df_card.describe())"
   ]
  },
  {
   "cell_type": "code",
   "execution_count": 3,
   "metadata": {
    "colab": {},
    "colab_type": "code",
    "id": "WLjTFXUCn7tm",
    "outputId": "d70760fd-4539-44e2-df7e-e99e22efd105"
   },
   "outputs": [
    {
     "data": {
      "text/html": [
       "<div>\n",
       "<style scoped>\n",
       "    .dataframe tbody tr th:only-of-type {\n",
       "        vertical-align: middle;\n",
       "    }\n",
       "\n",
       "    .dataframe tbody tr th {\n",
       "        vertical-align: top;\n",
       "    }\n",
       "\n",
       "    .dataframe thead th {\n",
       "        text-align: right;\n",
       "    }\n",
       "</style>\n",
       "<table border=\"1\" class=\"dataframe\">\n",
       "  <thead>\n",
       "    <tr style=\"text-align: right;\">\n",
       "      <th></th>\n",
       "      <th>STD_DD</th>\n",
       "      <th>GU_CD</th>\n",
       "      <th>DONG_CD</th>\n",
       "      <th>MCT_CAT_CD</th>\n",
       "      <th>SEX_CD</th>\n",
       "      <th>AGE_CD</th>\n",
       "      <th>USE_CNT</th>\n",
       "      <th>USE_AMT</th>\n",
       "      <th>GU_DONG_CD</th>\n",
       "    </tr>\n",
       "  </thead>\n",
       "  <tbody>\n",
       "    <tr>\n",
       "      <th>0</th>\n",
       "      <td>20180401</td>\n",
       "      <td>종로구</td>\n",
       "      <td>515</td>\n",
       "      <td>21</td>\n",
       "      <td>F</td>\n",
       "      <td>30</td>\n",
       "      <td>4</td>\n",
       "      <td>180</td>\n",
       "      <td>110515</td>\n",
       "    </tr>\n",
       "    <tr>\n",
       "      <th>1</th>\n",
       "      <td>20180401</td>\n",
       "      <td>종로구</td>\n",
       "      <td>515</td>\n",
       "      <td>21</td>\n",
       "      <td>F</td>\n",
       "      <td>55</td>\n",
       "      <td>4</td>\n",
       "      <td>22</td>\n",
       "      <td>110515</td>\n",
       "    </tr>\n",
       "    <tr>\n",
       "      <th>2</th>\n",
       "      <td>20180401</td>\n",
       "      <td>종로구</td>\n",
       "      <td>515</td>\n",
       "      <td>21</td>\n",
       "      <td>M</td>\n",
       "      <td>20</td>\n",
       "      <td>35</td>\n",
       "      <td>184</td>\n",
       "      <td>110515</td>\n",
       "    </tr>\n",
       "    <tr>\n",
       "      <th>3</th>\n",
       "      <td>20180401</td>\n",
       "      <td>종로구</td>\n",
       "      <td>515</td>\n",
       "      <td>21</td>\n",
       "      <td>M</td>\n",
       "      <td>25</td>\n",
       "      <td>70</td>\n",
       "      <td>425</td>\n",
       "      <td>110515</td>\n",
       "    </tr>\n",
       "    <tr>\n",
       "      <th>4</th>\n",
       "      <td>20180401</td>\n",
       "      <td>종로구</td>\n",
       "      <td>515</td>\n",
       "      <td>21</td>\n",
       "      <td>M</td>\n",
       "      <td>30</td>\n",
       "      <td>18</td>\n",
       "      <td>82</td>\n",
       "      <td>110515</td>\n",
       "    </tr>\n",
       "  </tbody>\n",
       "</table>\n",
       "</div>"
      ],
      "text/plain": [
       "     STD_DD GU_CD  DONG_CD  MCT_CAT_CD SEX_CD  AGE_CD  USE_CNT  USE_AMT  \\\n",
       "0  20180401   종로구      515          21      F      30        4      180   \n",
       "1  20180401   종로구      515          21      F      55        4       22   \n",
       "2  20180401   종로구      515          21      M      20       35      184   \n",
       "3  20180401   종로구      515          21      M      25       70      425   \n",
       "4  20180401   종로구      515          21      M      30       18       82   \n",
       "\n",
       "   GU_DONG_CD  \n",
       "0      110515  \n",
       "1      110515  \n",
       "2      110515  \n",
       "3      110515  \n",
       "4      110515  "
      ]
     },
     "execution_count": 3,
     "metadata": {},
     "output_type": "execute_result"
    }
   ],
   "source": [
    "#df_card[(df_card['DONG_CD'] == 550) & (df_card['GU_CD'] != 110)]\n",
    "#구,동 결합한 파생변수 생성\n",
    "df_card.loc[:, 'GU_DONG_CD'] = 1000 * df_card.loc[:, 'GU_CD'] + df_card.loc[:, 'DONG_CD']\n",
    "df_card.iloc[2:11, 0:11]\n",
    "\n",
    "#GU_CD 변환\n",
    "df_card.loc[df_card['GU_CD'] == 110,'GU_CD'] = ['종로구']\n",
    "df_card.loc[df_card['GU_CD'] == 350,'GU_CD'] =['노원구'] \n",
    "df_card['GU_CD'].value_counts()\n",
    "df_card.head()"
   ]
  },
  {
   "cell_type": "code",
   "execution_count": 4,
   "metadata": {
    "colab": {},
    "colab_type": "code",
    "id": "8LKFeyuFn7tp"
   },
   "outputs": [],
   "source": [
    "#DONG_CD 변환\n",
    "df_card['GUDONG_CD']=df_card['GU_DONG_CD'].astype(\"category\")\n",
    "df_card['GUDONG_CD'].cat.categories\n",
    "df_card['GUDONG_CD'].cat.categories=['청운효자동','사직동','삼청동','부암동','평창동',\n",
    "                                     '무악동','교남동','가회동','종로1,2,3,4가동','종로5,6가동',\n",
    "                                     '이화동','혜화동', '창신1동', '창신2동', '창신3동','숭인1동',\n",
    "                                     '숭인2동','월계1동','월계2동', '월계3동', '공릉1동', '공릉2동',\n",
    "                                     '하계1동','하계2동','중계본동','중계1동','중계4동','중계2,3동',\n",
    "                                     '상계1동', '상계2동', '상계3,4동', '상계5동', '상계6,7동', '상계8동',\n",
    "                                     '상계9동', '상계10동']\n",
    "\n",
    "df_card['TYPE']=df_card['MCT_CAT_CD'].astype(\"category\")\n",
    "df_card['TYPE'].cat.categories\n",
    "df_card['TYPE'].cat.categories=[\"숙박\",\"레저용품\",\"레저업소\",\"문화취미\",\"가구\",\"전기\",\"주방용구\",\"연료판매\",\n",
    "                         \"광학제품\",\"가전\",\"유통업\",\"의복\",\"직물\",\"신변잡화\",\"서적문구\",\"사무통신\",\"자동차판매\",\n",
    "                         \"자동차정비\",\"의료기관\",\"보건위생\",\"요식업소\",\"음료식품\",\"수리서비스\"]\n",
    "\n"
   ]
  },
  {
   "cell_type": "code",
   "execution_count": 5,
   "metadata": {
    "colab": {},
    "colab_type": "code",
    "id": "TbYWjvvZn7ts",
    "outputId": "a5bb2248-906e-408d-bcc8-55187af13baf"
   },
   "outputs": [
    {
     "data": {
      "text/html": [
       "<div>\n",
       "<style scoped>\n",
       "    .dataframe tbody tr th:only-of-type {\n",
       "        vertical-align: middle;\n",
       "    }\n",
       "\n",
       "    .dataframe tbody tr th {\n",
       "        vertical-align: top;\n",
       "    }\n",
       "\n",
       "    .dataframe thead th {\n",
       "        text-align: right;\n",
       "    }\n",
       "</style>\n",
       "<table border=\"1\" class=\"dataframe\">\n",
       "  <thead>\n",
       "    <tr style=\"text-align: right;\">\n",
       "      <th></th>\n",
       "      <th>STD_YMD</th>\n",
       "      <th>GU_CD</th>\n",
       "      <th>GUDONG_CD</th>\n",
       "      <th>SEX_CD</th>\n",
       "      <th>AGE_CD</th>\n",
       "      <th>TYPE</th>\n",
       "      <th>USE_CNT</th>\n",
       "      <th>USE_AMT</th>\n",
       "    </tr>\n",
       "  </thead>\n",
       "  <tbody>\n",
       "    <tr>\n",
       "      <th>0</th>\n",
       "      <td>20180401</td>\n",
       "      <td>종로구</td>\n",
       "      <td>청운효자동</td>\n",
       "      <td>F</td>\n",
       "      <td>30</td>\n",
       "      <td>레저업소</td>\n",
       "      <td>4</td>\n",
       "      <td>180</td>\n",
       "    </tr>\n",
       "    <tr>\n",
       "      <th>1</th>\n",
       "      <td>20180401</td>\n",
       "      <td>종로구</td>\n",
       "      <td>청운효자동</td>\n",
       "      <td>F</td>\n",
       "      <td>55</td>\n",
       "      <td>레저업소</td>\n",
       "      <td>4</td>\n",
       "      <td>22</td>\n",
       "    </tr>\n",
       "    <tr>\n",
       "      <th>2</th>\n",
       "      <td>20180401</td>\n",
       "      <td>종로구</td>\n",
       "      <td>청운효자동</td>\n",
       "      <td>M</td>\n",
       "      <td>20</td>\n",
       "      <td>레저업소</td>\n",
       "      <td>35</td>\n",
       "      <td>184</td>\n",
       "    </tr>\n",
       "    <tr>\n",
       "      <th>3</th>\n",
       "      <td>20180401</td>\n",
       "      <td>종로구</td>\n",
       "      <td>청운효자동</td>\n",
       "      <td>M</td>\n",
       "      <td>25</td>\n",
       "      <td>레저업소</td>\n",
       "      <td>70</td>\n",
       "      <td>425</td>\n",
       "    </tr>\n",
       "    <tr>\n",
       "      <th>4</th>\n",
       "      <td>20180401</td>\n",
       "      <td>종로구</td>\n",
       "      <td>청운효자동</td>\n",
       "      <td>M</td>\n",
       "      <td>30</td>\n",
       "      <td>레저업소</td>\n",
       "      <td>18</td>\n",
       "      <td>82</td>\n",
       "    </tr>\n",
       "  </tbody>\n",
       "</table>\n",
       "</div>"
      ],
      "text/plain": [
       "    STD_YMD GU_CD GUDONG_CD SEX_CD  AGE_CD  TYPE  USE_CNT  USE_AMT\n",
       "0  20180401   종로구     청운효자동      F      30  레저업소        4      180\n",
       "1  20180401   종로구     청운효자동      F      55  레저업소        4       22\n",
       "2  20180401   종로구     청운효자동      M      20  레저업소       35      184\n",
       "3  20180401   종로구     청운효자동      M      25  레저업소       70      425\n",
       "4  20180401   종로구     청운효자동      M      30  레저업소       18       82"
      ]
     },
     "execution_count": 5,
     "metadata": {},
     "output_type": "execute_result"
    }
   ],
   "source": [
    "# 필요한 변수만 남기기\n",
    "df_card= df_card[['STD_DD','GU_CD','GUDONG_CD','SEX_CD','AGE_CD','TYPE','USE_CNT','USE_AMT']]\n",
    "# 이름을 편하게\n",
    "df_card = df_card.rename(columns = {'STD_DD': 'STD_YMD'})\n",
    "df_card.head()"
   ]
  },
  {
   "cell_type": "markdown",
   "metadata": {
    "colab_type": "text",
    "id": "bkxpGIcqn7tu"
   },
   "source": [
    "## 1.1 일별 카드 매출"
   ]
  },
  {
   "cell_type": "code",
   "execution_count": null,
   "metadata": {
    "colab": {},
    "colab_type": "code",
    "id": "6vXWWQN5n7tv",
    "outputId": "6e774a17-ef58-4652-ac31-01be1af11bcd"
   },
   "outputs": [
    {
     "data": {
      "text/html": [
       "<div>\n",
       "<style scoped>\n",
       "    .dataframe tbody tr th:only-of-type {\n",
       "        vertical-align: middle;\n",
       "    }\n",
       "\n",
       "    .dataframe tbody tr th {\n",
       "        vertical-align: top;\n",
       "    }\n",
       "\n",
       "    .dataframe thead th {\n",
       "        text-align: right;\n",
       "    }\n",
       "</style>\n",
       "<table border=\"1\" class=\"dataframe\">\n",
       "  <thead>\n",
       "    <tr style=\"text-align: right;\">\n",
       "      <th></th>\n",
       "      <th>amt_sum</th>\n",
       "      <th>cnt_sum</th>\n",
       "      <th>amt_mean</th>\n",
       "    </tr>\n",
       "    <tr>\n",
       "      <th>STD_YMD</th>\n",
       "      <th></th>\n",
       "      <th></th>\n",
       "      <th></th>\n",
       "    </tr>\n",
       "  </thead>\n",
       "  <tbody>\n",
       "    <tr>\n",
       "      <th>20180401</th>\n",
       "      <td>12207618</td>\n",
       "      <td>578056</td>\n",
       "      <td>21.118400</td>\n",
       "    </tr>\n",
       "    <tr>\n",
       "      <th>20180402</th>\n",
       "      <td>13853900</td>\n",
       "      <td>683966</td>\n",
       "      <td>20.255247</td>\n",
       "    </tr>\n",
       "    <tr>\n",
       "      <th>20180403</th>\n",
       "      <td>13918070</td>\n",
       "      <td>684400</td>\n",
       "      <td>20.336163</td>\n",
       "    </tr>\n",
       "    <tr>\n",
       "      <th>20180404</th>\n",
       "      <td>14371889</td>\n",
       "      <td>699622</td>\n",
       "      <td>20.542363</td>\n",
       "    </tr>\n",
       "    <tr>\n",
       "      <th>20180405</th>\n",
       "      <td>12668002</td>\n",
       "      <td>620428</td>\n",
       "      <td>20.418166</td>\n",
       "    </tr>\n",
       "  </tbody>\n",
       "</table>\n",
       "</div>"
      ],
      "text/plain": [
       "           amt_sum  cnt_sum   amt_mean\n",
       "STD_YMD                               \n",
       "20180401  12207618   578056  21.118400\n",
       "20180402  13853900   683966  20.255247\n",
       "20180403  13918070   684400  20.336163\n",
       "20180404  14371889   699622  20.542363\n",
       "20180405  12668002   620428  20.418166"
      ]
     },
     "execution_count": 7,
     "metadata": {
      "tags": []
     },
     "output_type": "execute_result"
    }
   ],
   "source": [
    "#일별 카드 데이터\n",
    "amt_sum = df_card[\"USE_AMT\"].groupby(df_card[\"STD_YMD\"]).sum() # 일별 이용금액 총합\n",
    "cnt_sum = df_card[\"USE_CNT\"].groupby(df_card[\"STD_YMD\"]).sum() # 일별 이용건수의 총합\n",
    "amt_mean = df_card[\"USE_AMT\"].groupby(df_card[\"STD_YMD\"]).sum()/df_card[\"USE_CNT\"].groupby(df_card[\"STD_YMD\"]).sum()\n",
    "\n",
    "card_day = pd.concat([amt_sum,cnt_sum,amt_mean],axis=1,\n",
    "                    keys=['amt_sum','cnt_sum','amt_mean'])\n",
    "card_day.head()"
   ]
  },
  {
   "cell_type": "code",
   "execution_count": null,
   "metadata": {
    "colab": {},
    "colab_type": "code",
    "id": "Bgd1hdp3n7ty"
   },
   "outputs": [],
   "source": [
    "card_day.to_csv('card_day.csv')\n",
    "card_day = pd.read_csv('card_day.csv',index_col='STD_YMD',parse_dates=True)"
   ]
  },
  {
   "cell_type": "code",
   "execution_count": null,
   "metadata": {
    "colab": {},
    "colab_type": "code",
    "id": "JCf0_Fvmn7t4",
    "outputId": "f1c42fd4-9953-4cab-b08e-2d48f299fef7"
   },
   "outputs": [
    {
     "data": {
      "text/plain": [
       "{'whiskers': [<matplotlib.lines.Line2D at 0x1a1bb20160>,\n",
       "  <matplotlib.lines.Line2D at 0x1a1bb55ba8>],\n",
       " 'caps': [<matplotlib.lines.Line2D at 0x1a1bb55ef0>,\n",
       "  <matplotlib.lines.Line2D at 0x1a1bb55fd0>],\n",
       " 'boxes': [<matplotlib.lines.Line2D at 0x1a1bb55240>],\n",
       " 'medians': [<matplotlib.lines.Line2D at 0x1a1bb645c0>],\n",
       " 'fliers': [<matplotlib.lines.Line2D at 0x1a1bb64908>],\n",
       " 'means': []}"
      ]
     },
     "execution_count": 9,
     "metadata": {
      "tags": []
     },
     "output_type": "execute_result"
    },
    {
     "data": {
      "image/png": "[encoded data removed]",
      "text/plain": [
       "<Figure size 936x288 with 2 Axes>"
      ]
     },
     "metadata": {
      "needs_background": "light",
      "tags": []
     },
     "output_type": "display_data"
    }
   ],
   "source": [
    "fig = plt.figure(figsize=(13,4))\n",
    "ax1 = fig.add_subplot(1, 2, 1)\n",
    "ax2 = fig.add_subplot(1, 2, 2)\n",
    "ax1.set_title('USE_CNT')\n",
    "ax1.boxplot(df_card['USE_CNT'],vert=False)\n",
    "ax2.set_title('USE_AMT')\n",
    "ax2.boxplot(df_card['USE_AMT'],vert=False)\n",
    "#이용금액과 이용건은 둘다 left-skewed. 각각 median이 47만 9천원과 23건이지만, 상위 25%에서 차이가 가장큼. "
   ]
  },
  {
   "cell_type": "code",
   "execution_count": null,
   "metadata": {
    "colab": {},
    "colab_type": "code",
    "id": "ROBQ-uuhn7t7",
    "outputId": "29f873cb-92a7-4c56-9a11-67b18be77530"
   },
   "outputs": [
    {
     "name": "stderr",
     "output_type": "stream",
     "text": [
      "//anaconda3/lib/python3.7/site-packages/ipykernel_launcher.py:2: DeprecationWarning: \n",
      ".ix is deprecated. Please use\n",
      ".loc for label based indexing or\n",
      ".iloc for positional indexing\n",
      "\n",
      "See the documentation here:\n",
      "http://pandas.pydata.org/pandas-docs/stable/indexing.html#ix-indexer-is-deprecated\n",
      "  \n"
     ]
    },
    {
     "data": {
      "text/plain": [
       "STD_YMD      20190318\n",
       "GU_CD             노원구\n",
       "GUDONG_CD        중계본동\n",
       "SEX_CD              M\n",
       "AGE_CD             50\n",
       "TYPE             의료기관\n",
       "USE_CNT           123\n",
       "USE_AMT       1138252\n",
       "Name: 2074129, dtype: object"
      ]
     },
     "execution_count": 10,
     "metadata": {
      "tags": []
     },
     "output_type": "execute_result"
    }
   ],
   "source": [
    "#가장 큰 소비금액 52억원은 2018년 6월 15일 50~59세 남성 샘플인구가 '종로구 종로1.2.3.4가동 (110615)'의 '의료기관(70)'에서 489건 소비함\n",
    "df_card.ix[df_card['USE_AMT'].idxmax()]"
   ]
  },
  {
   "cell_type": "code",
   "execution_count": null,
   "metadata": {
    "colab": {},
    "colab_type": "code",
    "id": "HKopxdJBn7t-",
    "outputId": "f5055347-a0d1-4b70-e41d-f4764ca4559e"
   },
   "outputs": [
    {
     "data": {
      "text/html": [
       "<div>\n",
       "<style scoped>\n",
       "    .dataframe tbody tr th:only-of-type {\n",
       "        vertical-align: middle;\n",
       "    }\n",
       "\n",
       "    .dataframe tbody tr th {\n",
       "        vertical-align: top;\n",
       "    }\n",
       "\n",
       "    .dataframe thead th {\n",
       "        text-align: right;\n",
       "    }\n",
       "</style>\n",
       "<table border=\"1\" class=\"dataframe\">\n",
       "  <thead>\n",
       "    <tr style=\"text-align: right;\">\n",
       "      <th></th>\n",
       "      <th>STD_YMD</th>\n",
       "      <th>GU_CD</th>\n",
       "      <th>GUDONG_CD</th>\n",
       "      <th>SEX_CD</th>\n",
       "      <th>AGE_CD</th>\n",
       "      <th>TYPE</th>\n",
       "      <th>USE_CNT</th>\n",
       "      <th>USE_AMT</th>\n",
       "    </tr>\n",
       "  </thead>\n",
       "  <tbody>\n",
       "    <tr>\n",
       "      <th>418962</th>\n",
       "      <td>20180609</td>\n",
       "      <td>노원구</td>\n",
       "      <td>중계4동</td>\n",
       "      <td>M</td>\n",
       "      <td>30</td>\n",
       "      <td>문화취미</td>\n",
       "      <td>4</td>\n",
       "      <td>130</td>\n",
       "    </tr>\n",
       "    <tr>\n",
       "      <th>418963</th>\n",
       "      <td>20180609</td>\n",
       "      <td>노원구</td>\n",
       "      <td>중계4동</td>\n",
       "      <td>M</td>\n",
       "      <td>40</td>\n",
       "      <td>문화취미</td>\n",
       "      <td>13</td>\n",
       "      <td>191</td>\n",
       "    </tr>\n",
       "    <tr>\n",
       "      <th>418964</th>\n",
       "      <td>20180609</td>\n",
       "      <td>노원구</td>\n",
       "      <td>중계4동</td>\n",
       "      <td>M</td>\n",
       "      <td>45</td>\n",
       "      <td>문화취미</td>\n",
       "      <td>4</td>\n",
       "      <td>43</td>\n",
       "    </tr>\n",
       "    <tr>\n",
       "      <th>418965</th>\n",
       "      <td>20180609</td>\n",
       "      <td>노원구</td>\n",
       "      <td>중계4동</td>\n",
       "      <td>M</td>\n",
       "      <td>60</td>\n",
       "      <td>문화취미</td>\n",
       "      <td>4</td>\n",
       "      <td>173</td>\n",
       "    </tr>\n",
       "    <tr>\n",
       "      <th>418966</th>\n",
       "      <td>20180609</td>\n",
       "      <td>노원구</td>\n",
       "      <td>중계4동</td>\n",
       "      <td>F</td>\n",
       "      <td>25</td>\n",
       "      <td>가전</td>\n",
       "      <td>4</td>\n",
       "      <td>515</td>\n",
       "    </tr>\n",
       "    <tr>\n",
       "      <th>418967</th>\n",
       "      <td>20180609</td>\n",
       "      <td>노원구</td>\n",
       "      <td>중계4동</td>\n",
       "      <td>F</td>\n",
       "      <td>45</td>\n",
       "      <td>가전</td>\n",
       "      <td>4</td>\n",
       "      <td>195</td>\n",
       "    </tr>\n",
       "    <tr>\n",
       "      <th>418968</th>\n",
       "      <td>20180609</td>\n",
       "      <td>노원구</td>\n",
       "      <td>중계4동</td>\n",
       "      <td>M</td>\n",
       "      <td>45</td>\n",
       "      <td>가전</td>\n",
       "      <td>13</td>\n",
       "      <td>7833</td>\n",
       "    </tr>\n",
       "    <tr>\n",
       "      <th>418969</th>\n",
       "      <td>20180609</td>\n",
       "      <td>노원구</td>\n",
       "      <td>중계4동</td>\n",
       "      <td>M</td>\n",
       "      <td>50</td>\n",
       "      <td>가전</td>\n",
       "      <td>4</td>\n",
       "      <td>515</td>\n",
       "    </tr>\n",
       "    <tr>\n",
       "      <th>418970</th>\n",
       "      <td>20180609</td>\n",
       "      <td>노원구</td>\n",
       "      <td>중계4동</td>\n",
       "      <td>F</td>\n",
       "      <td>20</td>\n",
       "      <td>유통업</td>\n",
       "      <td>139</td>\n",
       "      <td>705</td>\n",
       "    </tr>\n",
       "    <tr>\n",
       "      <th>418971</th>\n",
       "      <td>20180609</td>\n",
       "      <td>노원구</td>\n",
       "      <td>중계4동</td>\n",
       "      <td>F</td>\n",
       "      <td>25</td>\n",
       "      <td>유통업</td>\n",
       "      <td>87</td>\n",
       "      <td>430</td>\n",
       "    </tr>\n",
       "    <tr>\n",
       "      <th>418972</th>\n",
       "      <td>20180609</td>\n",
       "      <td>노원구</td>\n",
       "      <td>중계4동</td>\n",
       "      <td>F</td>\n",
       "      <td>30</td>\n",
       "      <td>유통업</td>\n",
       "      <td>130</td>\n",
       "      <td>1124</td>\n",
       "    </tr>\n",
       "    <tr>\n",
       "      <th>418973</th>\n",
       "      <td>20180609</td>\n",
       "      <td>노원구</td>\n",
       "      <td>중계4동</td>\n",
       "      <td>F</td>\n",
       "      <td>35</td>\n",
       "      <td>유통업</td>\n",
       "      <td>165</td>\n",
       "      <td>2635</td>\n",
       "    </tr>\n",
       "    <tr>\n",
       "      <th>418974</th>\n",
       "      <td>20180609</td>\n",
       "      <td>노원구</td>\n",
       "      <td>중계4동</td>\n",
       "      <td>F</td>\n",
       "      <td>40</td>\n",
       "      <td>유통업</td>\n",
       "      <td>221</td>\n",
       "      <td>3249</td>\n",
       "    </tr>\n",
       "    <tr>\n",
       "      <th>418975</th>\n",
       "      <td>20180609</td>\n",
       "      <td>노원구</td>\n",
       "      <td>중계4동</td>\n",
       "      <td>F</td>\n",
       "      <td>45</td>\n",
       "      <td>유통업</td>\n",
       "      <td>268</td>\n",
       "      <td>3408</td>\n",
       "    </tr>\n",
       "    <tr>\n",
       "      <th>418976</th>\n",
       "      <td>20180609</td>\n",
       "      <td>노원구</td>\n",
       "      <td>중계4동</td>\n",
       "      <td>F</td>\n",
       "      <td>50</td>\n",
       "      <td>유통업</td>\n",
       "      <td>186</td>\n",
       "      <td>2913</td>\n",
       "    </tr>\n",
       "    <tr>\n",
       "      <th>418977</th>\n",
       "      <td>20180609</td>\n",
       "      <td>노원구</td>\n",
       "      <td>중계4동</td>\n",
       "      <td>F</td>\n",
       "      <td>55</td>\n",
       "      <td>유통업</td>\n",
       "      <td>221</td>\n",
       "      <td>4460</td>\n",
       "    </tr>\n",
       "    <tr>\n",
       "      <th>418978</th>\n",
       "      <td>20180609</td>\n",
       "      <td>노원구</td>\n",
       "      <td>중계4동</td>\n",
       "      <td>F</td>\n",
       "      <td>60</td>\n",
       "      <td>유통업</td>\n",
       "      <td>117</td>\n",
       "      <td>3727</td>\n",
       "    </tr>\n",
       "    <tr>\n",
       "      <th>418979</th>\n",
       "      <td>20180609</td>\n",
       "      <td>노원구</td>\n",
       "      <td>중계4동</td>\n",
       "      <td>F</td>\n",
       "      <td>65</td>\n",
       "      <td>유통업</td>\n",
       "      <td>121</td>\n",
       "      <td>1998</td>\n",
       "    </tr>\n",
       "    <tr>\n",
       "      <th>418980</th>\n",
       "      <td>20180609</td>\n",
       "      <td>노원구</td>\n",
       "      <td>중계4동</td>\n",
       "      <td>M</td>\n",
       "      <td>20</td>\n",
       "      <td>유통업</td>\n",
       "      <td>147</td>\n",
       "      <td>706</td>\n",
       "    </tr>\n",
       "    <tr>\n",
       "      <th>418981</th>\n",
       "      <td>20180609</td>\n",
       "      <td>노원구</td>\n",
       "      <td>중계4동</td>\n",
       "      <td>M</td>\n",
       "      <td>25</td>\n",
       "      <td>유통업</td>\n",
       "      <td>312</td>\n",
       "      <td>1983</td>\n",
       "    </tr>\n",
       "  </tbody>\n",
       "</table>\n",
       "</div>"
      ],
      "text/plain": [
       "         STD_YMD GU_CD GUDONG_CD SEX_CD  AGE_CD  TYPE  USE_CNT  USE_AMT\n",
       "418962  20180609   노원구      중계4동      M      30  문화취미        4      130\n",
       "418963  20180609   노원구      중계4동      M      40  문화취미       13      191\n",
       "418964  20180609   노원구      중계4동      M      45  문화취미        4       43\n",
       "418965  20180609   노원구      중계4동      M      60  문화취미        4      173\n",
       "418966  20180609   노원구      중계4동      F      25    가전        4      515\n",
       "418967  20180609   노원구      중계4동      F      45    가전        4      195\n",
       "418968  20180609   노원구      중계4동      M      45    가전       13     7833\n",
       "418969  20180609   노원구      중계4동      M      50    가전        4      515\n",
       "418970  20180609   노원구      중계4동      F      20   유통업      139      705\n",
       "418971  20180609   노원구      중계4동      F      25   유통업       87      430\n",
       "418972  20180609   노원구      중계4동      F      30   유통업      130     1124\n",
       "418973  20180609   노원구      중계4동      F      35   유통업      165     2635\n",
       "418974  20180609   노원구      중계4동      F      40   유통업      221     3249\n",
       "418975  20180609   노원구      중계4동      F      45   유통업      268     3408\n",
       "418976  20180609   노원구      중계4동      F      50   유통업      186     2913\n",
       "418977  20180609   노원구      중계4동      F      55   유통업      221     4460\n",
       "418978  20180609   노원구      중계4동      F      60   유통업      117     3727\n",
       "418979  20180609   노원구      중계4동      F      65   유통업      121     1998\n",
       "418980  20180609   노원구      중계4동      M      20   유통업      147      706\n",
       "418981  20180609   노원구      중계4동      M      25   유통업      312     1983"
      ]
     },
     "execution_count": 11,
     "metadata": {
      "tags": []
     },
     "output_type": "execute_result"
    }
   ],
   "source": [
    "df_card.iloc[418962:418982,0:10] #최대 소비금액을 (418972)을 기준으로 20개 케이스를 봄. 특별하게 더 많은 소비가 보이진 않음."
   ]
  },
  {
   "cell_type": "code",
   "execution_count": null,
   "metadata": {
    "colab": {},
    "colab_type": "code",
    "id": "57BX-I8jn7uC",
    "outputId": "a5fd0e1a-7960-4a73-8e66-c52665a1f478"
   },
   "outputs": [
    {
     "data": {
      "text/html": [
       "<div>\n",
       "<style scoped>\n",
       "    .dataframe tbody tr th:only-of-type {\n",
       "        vertical-align: middle;\n",
       "    }\n",
       "\n",
       "    .dataframe tbody tr th {\n",
       "        vertical-align: top;\n",
       "    }\n",
       "\n",
       "    .dataframe thead th {\n",
       "        text-align: right;\n",
       "    }\n",
       "</style>\n",
       "<table border=\"1\" class=\"dataframe\">\n",
       "  <thead>\n",
       "    <tr style=\"text-align: right;\">\n",
       "      <th></th>\n",
       "      <th>STD_YMD</th>\n",
       "      <th>GU_CD</th>\n",
       "      <th>GUDONG_CD</th>\n",
       "      <th>SEX_CD</th>\n",
       "      <th>AGE_CD</th>\n",
       "      <th>TYPE</th>\n",
       "      <th>USE_CNT</th>\n",
       "      <th>USE_AMT</th>\n",
       "    </tr>\n",
       "  </thead>\n",
       "  <tbody>\n",
       "    <tr>\n",
       "      <th>2074129</th>\n",
       "      <td>20190318</td>\n",
       "      <td>노원구</td>\n",
       "      <td>중계본동</td>\n",
       "      <td>M</td>\n",
       "      <td>50</td>\n",
       "      <td>의료기관</td>\n",
       "      <td>123</td>\n",
       "      <td>1138252</td>\n",
       "    </tr>\n",
       "    <tr>\n",
       "      <th>1918965</th>\n",
       "      <td>20190220</td>\n",
       "      <td>노원구</td>\n",
       "      <td>중계본동</td>\n",
       "      <td>M</td>\n",
       "      <td>50</td>\n",
       "      <td>의료기관</td>\n",
       "      <td>72</td>\n",
       "      <td>1131479</td>\n",
       "    </tr>\n",
       "    <tr>\n",
       "      <th>1754303</th>\n",
       "      <td>20190122</td>\n",
       "      <td>노원구</td>\n",
       "      <td>중계본동</td>\n",
       "      <td>M</td>\n",
       "      <td>50</td>\n",
       "      <td>의료기관</td>\n",
       "      <td>121</td>\n",
       "      <td>1129109</td>\n",
       "    </tr>\n",
       "    <tr>\n",
       "      <th>1550574</th>\n",
       "      <td>20181218</td>\n",
       "      <td>노원구</td>\n",
       "      <td>중계본동</td>\n",
       "      <td>M</td>\n",
       "      <td>50</td>\n",
       "      <td>의료기관</td>\n",
       "      <td>135</td>\n",
       "      <td>1126231</td>\n",
       "    </tr>\n",
       "    <tr>\n",
       "      <th>1212955</th>\n",
       "      <td>20181022</td>\n",
       "      <td>노원구</td>\n",
       "      <td>중계본동</td>\n",
       "      <td>M</td>\n",
       "      <td>50</td>\n",
       "      <td>의료기관</td>\n",
       "      <td>71</td>\n",
       "      <td>1108389</td>\n",
       "    </tr>\n",
       "    <tr>\n",
       "      <th>1007957</th>\n",
       "      <td>20180917</td>\n",
       "      <td>노원구</td>\n",
       "      <td>중계본동</td>\n",
       "      <td>M</td>\n",
       "      <td>50</td>\n",
       "      <td>의료기관</td>\n",
       "      <td>88</td>\n",
       "      <td>1098636</td>\n",
       "    </tr>\n",
       "    <tr>\n",
       "      <th>691093</th>\n",
       "      <td>20180725</td>\n",
       "      <td>노원구</td>\n",
       "      <td>중계본동</td>\n",
       "      <td>M</td>\n",
       "      <td>50</td>\n",
       "      <td>의료기관</td>\n",
       "      <td>70</td>\n",
       "      <td>1095046</td>\n",
       "    </tr>\n",
       "    <tr>\n",
       "      <th>1391072</th>\n",
       "      <td>20181121</td>\n",
       "      <td>노원구</td>\n",
       "      <td>중계본동</td>\n",
       "      <td>M</td>\n",
       "      <td>50</td>\n",
       "      <td>의료기관</td>\n",
       "      <td>66</td>\n",
       "      <td>1092718</td>\n",
       "    </tr>\n",
       "    <tr>\n",
       "      <th>848642</th>\n",
       "      <td>20180821</td>\n",
       "      <td>노원구</td>\n",
       "      <td>중계본동</td>\n",
       "      <td>M</td>\n",
       "      <td>50</td>\n",
       "      <td>의료기관</td>\n",
       "      <td>70</td>\n",
       "      <td>1092105</td>\n",
       "    </tr>\n",
       "    <tr>\n",
       "      <th>321636</th>\n",
       "      <td>20180524</td>\n",
       "      <td>노원구</td>\n",
       "      <td>중계본동</td>\n",
       "      <td>M</td>\n",
       "      <td>50</td>\n",
       "      <td>의료기관</td>\n",
       "      <td>57</td>\n",
       "      <td>1090946</td>\n",
       "    </tr>\n",
       "    <tr>\n",
       "      <th>489965</th>\n",
       "      <td>20180621</td>\n",
       "      <td>노원구</td>\n",
       "      <td>중계본동</td>\n",
       "      <td>M</td>\n",
       "      <td>50</td>\n",
       "      <td>의료기관</td>\n",
       "      <td>65</td>\n",
       "      <td>1083279</td>\n",
       "    </tr>\n",
       "    <tr>\n",
       "      <th>1589982</th>\n",
       "      <td>20181225</td>\n",
       "      <td>종로구</td>\n",
       "      <td>종로1,2,3,4가동</td>\n",
       "      <td>M</td>\n",
       "      <td>25</td>\n",
       "      <td>요식업소</td>\n",
       "      <td>12038</td>\n",
       "      <td>332155</td>\n",
       "    </tr>\n",
       "    <tr>\n",
       "      <th>1572301</th>\n",
       "      <td>20181222</td>\n",
       "      <td>종로구</td>\n",
       "      <td>종로1,2,3,4가동</td>\n",
       "      <td>M</td>\n",
       "      <td>25</td>\n",
       "      <td>요식업소</td>\n",
       "      <td>9576</td>\n",
       "      <td>287188</td>\n",
       "    </tr>\n",
       "    <tr>\n",
       "      <th>1893433</th>\n",
       "      <td>20190216</td>\n",
       "      <td>종로구</td>\n",
       "      <td>종로1,2,3,4가동</td>\n",
       "      <td>M</td>\n",
       "      <td>25</td>\n",
       "      <td>요식업소</td>\n",
       "      <td>10043</td>\n",
       "      <td>266889</td>\n",
       "    </tr>\n",
       "    <tr>\n",
       "      <th>1734745</th>\n",
       "      <td>20190119</td>\n",
       "      <td>종로구</td>\n",
       "      <td>종로1,2,3,4가동</td>\n",
       "      <td>M</td>\n",
       "      <td>25</td>\n",
       "      <td>요식업소</td>\n",
       "      <td>10691</td>\n",
       "      <td>266734</td>\n",
       "    </tr>\n",
       "    <tr>\n",
       "      <th>2018392</th>\n",
       "      <td>20190309</td>\n",
       "      <td>종로구</td>\n",
       "      <td>종로1,2,3,4가동</td>\n",
       "      <td>M</td>\n",
       "      <td>25</td>\n",
       "      <td>요식업소</td>\n",
       "      <td>10542</td>\n",
       "      <td>266677</td>\n",
       "    </tr>\n",
       "    <tr>\n",
       "      <th>1775307</th>\n",
       "      <td>20190126</td>\n",
       "      <td>종로구</td>\n",
       "      <td>종로1,2,3,4가동</td>\n",
       "      <td>M</td>\n",
       "      <td>25</td>\n",
       "      <td>요식업소</td>\n",
       "      <td>10111</td>\n",
       "      <td>265333</td>\n",
       "    </tr>\n",
       "    <tr>\n",
       "      <th>1282001</th>\n",
       "      <td>20181103</td>\n",
       "      <td>종로구</td>\n",
       "      <td>종로1,2,3,4가동</td>\n",
       "      <td>M</td>\n",
       "      <td>25</td>\n",
       "      <td>요식업소</td>\n",
       "      <td>10300</td>\n",
       "      <td>264741</td>\n",
       "    </tr>\n",
       "    <tr>\n",
       "      <th>1653542</th>\n",
       "      <td>20190105</td>\n",
       "      <td>종로구</td>\n",
       "      <td>종로1,2,3,4가동</td>\n",
       "      <td>M</td>\n",
       "      <td>25</td>\n",
       "      <td>요식업소</td>\n",
       "      <td>10269</td>\n",
       "      <td>259389</td>\n",
       "    </tr>\n",
       "    <tr>\n",
       "      <th>1694327</th>\n",
       "      <td>20190112</td>\n",
       "      <td>종로구</td>\n",
       "      <td>종로1,2,3,4가동</td>\n",
       "      <td>M</td>\n",
       "      <td>25</td>\n",
       "      <td>요식업소</td>\n",
       "      <td>10516</td>\n",
       "      <td>257248</td>\n",
       "    </tr>\n",
       "    <tr>\n",
       "      <th>204636</th>\n",
       "      <td>20180505</td>\n",
       "      <td>종로구</td>\n",
       "      <td>종로1,2,3,4가동</td>\n",
       "      <td>M</td>\n",
       "      <td>25</td>\n",
       "      <td>요식업소</td>\n",
       "      <td>9884</td>\n",
       "      <td>256370</td>\n",
       "    </tr>\n",
       "    <tr>\n",
       "      <th>1583926</th>\n",
       "      <td>20181224</td>\n",
       "      <td>종로구</td>\n",
       "      <td>종로1,2,3,4가동</td>\n",
       "      <td>M</td>\n",
       "      <td>25</td>\n",
       "      <td>요식업소</td>\n",
       "      <td>10458</td>\n",
       "      <td>255600</td>\n",
       "    </tr>\n",
       "    <tr>\n",
       "      <th>1323229</th>\n",
       "      <td>20181110</td>\n",
       "      <td>종로구</td>\n",
       "      <td>종로1,2,3,4가동</td>\n",
       "      <td>M</td>\n",
       "      <td>25</td>\n",
       "      <td>요식업소</td>\n",
       "      <td>9924</td>\n",
       "      <td>253035</td>\n",
       "    </tr>\n",
       "    <tr>\n",
       "      <th>1934407</th>\n",
       "      <td>20190223</td>\n",
       "      <td>종로구</td>\n",
       "      <td>종로1,2,3,4가동</td>\n",
       "      <td>M</td>\n",
       "      <td>25</td>\n",
       "      <td>요식업소</td>\n",
       "      <td>9967</td>\n",
       "      <td>251155</td>\n",
       "    </tr>\n",
       "    <tr>\n",
       "      <th>1448031</th>\n",
       "      <td>20181201</td>\n",
       "      <td>종로구</td>\n",
       "      <td>종로1,2,3,4가동</td>\n",
       "      <td>M</td>\n",
       "      <td>25</td>\n",
       "      <td>요식업소</td>\n",
       "      <td>9185</td>\n",
       "      <td>250419</td>\n",
       "    </tr>\n",
       "    <tr>\n",
       "      <th>881472</th>\n",
       "      <td>20180827</td>\n",
       "      <td>종로구</td>\n",
       "      <td>이화동</td>\n",
       "      <td>M</td>\n",
       "      <td>65</td>\n",
       "      <td>의료기관</td>\n",
       "      <td>1273</td>\n",
       "      <td>250109</td>\n",
       "    </tr>\n",
       "    <tr>\n",
       "      <th>888135</th>\n",
       "      <td>20180828</td>\n",
       "      <td>노원구</td>\n",
       "      <td>월계1동</td>\n",
       "      <td>F</td>\n",
       "      <td>35</td>\n",
       "      <td>의료기관</td>\n",
       "      <td>39</td>\n",
       "      <td>248844</td>\n",
       "    </tr>\n",
       "    <tr>\n",
       "      <th>1603050</th>\n",
       "      <td>20181227</td>\n",
       "      <td>노원구</td>\n",
       "      <td>월계1동</td>\n",
       "      <td>F</td>\n",
       "      <td>35</td>\n",
       "      <td>의료기관</td>\n",
       "      <td>86</td>\n",
       "      <td>248528</td>\n",
       "    </tr>\n",
       "    <tr>\n",
       "      <th>1613477</th>\n",
       "      <td>20181229</td>\n",
       "      <td>종로구</td>\n",
       "      <td>종로1,2,3,4가동</td>\n",
       "      <td>M</td>\n",
       "      <td>25</td>\n",
       "      <td>요식업소</td>\n",
       "      <td>8091</td>\n",
       "      <td>248180</td>\n",
       "    </tr>\n",
       "    <tr>\n",
       "      <th>1530565</th>\n",
       "      <td>20181215</td>\n",
       "      <td>종로구</td>\n",
       "      <td>종로1,2,3,4가동</td>\n",
       "      <td>M</td>\n",
       "      <td>25</td>\n",
       "      <td>요식업소</td>\n",
       "      <td>8937</td>\n",
       "      <td>247953</td>\n",
       "    </tr>\n",
       "    <tr>\n",
       "      <th>288958</th>\n",
       "      <td>20180519</td>\n",
       "      <td>종로구</td>\n",
       "      <td>종로1,2,3,4가동</td>\n",
       "      <td>M</td>\n",
       "      <td>25</td>\n",
       "      <td>요식업소</td>\n",
       "      <td>10076</td>\n",
       "      <td>247785</td>\n",
       "    </tr>\n",
       "    <tr>\n",
       "      <th>695930</th>\n",
       "      <td>20180726</td>\n",
       "      <td>노원구</td>\n",
       "      <td>월계1동</td>\n",
       "      <td>F</td>\n",
       "      <td>35</td>\n",
       "      <td>의료기관</td>\n",
       "      <td>66</td>\n",
       "      <td>246518</td>\n",
       "    </tr>\n",
       "    <tr>\n",
       "      <th>1229628</th>\n",
       "      <td>20181025</td>\n",
       "      <td>노원구</td>\n",
       "      <td>월계1동</td>\n",
       "      <td>F</td>\n",
       "      <td>35</td>\n",
       "      <td>의료기관</td>\n",
       "      <td>75</td>\n",
       "      <td>244725</td>\n",
       "    </tr>\n",
       "    <tr>\n",
       "      <th>2059843</th>\n",
       "      <td>20190316</td>\n",
       "      <td>종로구</td>\n",
       "      <td>종로1,2,3,4가동</td>\n",
       "      <td>M</td>\n",
       "      <td>25</td>\n",
       "      <td>요식업소</td>\n",
       "      <td>9983</td>\n",
       "      <td>244667</td>\n",
       "    </tr>\n",
       "    <tr>\n",
       "      <th>1970189</th>\n",
       "      <td>20190301</td>\n",
       "      <td>종로구</td>\n",
       "      <td>종로1,2,3,4가동</td>\n",
       "      <td>M</td>\n",
       "      <td>25</td>\n",
       "      <td>요식업소</td>\n",
       "      <td>9829</td>\n",
       "      <td>244419</td>\n",
       "    </tr>\n",
       "    <tr>\n",
       "      <th>2095599</th>\n",
       "      <td>20190322</td>\n",
       "      <td>종로구</td>\n",
       "      <td>이화동</td>\n",
       "      <td>M</td>\n",
       "      <td>65</td>\n",
       "      <td>의료기관</td>\n",
       "      <td>1285</td>\n",
       "      <td>241857</td>\n",
       "    </tr>\n",
       "    <tr>\n",
       "      <th>1425241</th>\n",
       "      <td>20181127</td>\n",
       "      <td>노원구</td>\n",
       "      <td>월계1동</td>\n",
       "      <td>F</td>\n",
       "      <td>35</td>\n",
       "      <td>의료기관</td>\n",
       "      <td>114</td>\n",
       "      <td>241196</td>\n",
       "    </tr>\n",
       "    <tr>\n",
       "      <th>1240266</th>\n",
       "      <td>20181027</td>\n",
       "      <td>종로구</td>\n",
       "      <td>종로1,2,3,4가동</td>\n",
       "      <td>M</td>\n",
       "      <td>25</td>\n",
       "      <td>요식업소</td>\n",
       "      <td>9706</td>\n",
       "      <td>240033</td>\n",
       "    </tr>\n",
       "    <tr>\n",
       "      <th>2101288</th>\n",
       "      <td>20190323</td>\n",
       "      <td>종로구</td>\n",
       "      <td>종로1,2,3,4가동</td>\n",
       "      <td>M</td>\n",
       "      <td>25</td>\n",
       "      <td>요식업소</td>\n",
       "      <td>9756</td>\n",
       "      <td>239732</td>\n",
       "    </tr>\n",
       "    <tr>\n",
       "      <th>1198709</th>\n",
       "      <td>20181020</td>\n",
       "      <td>종로구</td>\n",
       "      <td>종로1,2,3,4가동</td>\n",
       "      <td>M</td>\n",
       "      <td>25</td>\n",
       "      <td>요식업소</td>\n",
       "      <td>9121</td>\n",
       "      <td>238783</td>\n",
       "    </tr>\n",
       "    <tr>\n",
       "      <th>1073509</th>\n",
       "      <td>20180929</td>\n",
       "      <td>종로구</td>\n",
       "      <td>종로1,2,3,4가동</td>\n",
       "      <td>M</td>\n",
       "      <td>25</td>\n",
       "      <td>요식업소</td>\n",
       "      <td>10439</td>\n",
       "      <td>238760</td>\n",
       "    </tr>\n",
       "    <tr>\n",
       "      <th>1805647</th>\n",
       "      <td>20190131</td>\n",
       "      <td>노원구</td>\n",
       "      <td>월계1동</td>\n",
       "      <td>F</td>\n",
       "      <td>35</td>\n",
       "      <td>의료기관</td>\n",
       "      <td>76</td>\n",
       "      <td>238454</td>\n",
       "    </tr>\n",
       "    <tr>\n",
       "      <th>1024697</th>\n",
       "      <td>20180920</td>\n",
       "      <td>노원구</td>\n",
       "      <td>월계1동</td>\n",
       "      <td>F</td>\n",
       "      <td>35</td>\n",
       "      <td>의료기관</td>\n",
       "      <td>79</td>\n",
       "      <td>238166</td>\n",
       "    </tr>\n",
       "    <tr>\n",
       "      <th>1489307</th>\n",
       "      <td>20181208</td>\n",
       "      <td>종로구</td>\n",
       "      <td>종로1,2,3,4가동</td>\n",
       "      <td>M</td>\n",
       "      <td>25</td>\n",
       "      <td>요식업소</td>\n",
       "      <td>8172</td>\n",
       "      <td>237049</td>\n",
       "    </tr>\n",
       "    <tr>\n",
       "      <th>1365031</th>\n",
       "      <td>20181117</td>\n",
       "      <td>종로구</td>\n",
       "      <td>종로1,2,3,4가동</td>\n",
       "      <td>M</td>\n",
       "      <td>25</td>\n",
       "      <td>요식업소</td>\n",
       "      <td>9286</td>\n",
       "      <td>236945</td>\n",
       "    </tr>\n",
       "    <tr>\n",
       "      <th>1406521</th>\n",
       "      <td>20181124</td>\n",
       "      <td>종로구</td>\n",
       "      <td>종로1,2,3,4가동</td>\n",
       "      <td>M</td>\n",
       "      <td>25</td>\n",
       "      <td>요식업소</td>\n",
       "      <td>9090</td>\n",
       "      <td>236625</td>\n",
       "    </tr>\n",
       "    <tr>\n",
       "      <th>2120203</th>\n",
       "      <td>20190326</td>\n",
       "      <td>노원구</td>\n",
       "      <td>월계1동</td>\n",
       "      <td>F</td>\n",
       "      <td>35</td>\n",
       "      <td>의료기관</td>\n",
       "      <td>73</td>\n",
       "      <td>236409</td>\n",
       "    </tr>\n",
       "    <tr>\n",
       "      <th>1953408</th>\n",
       "      <td>20190226</td>\n",
       "      <td>노원구</td>\n",
       "      <td>월계1동</td>\n",
       "      <td>F</td>\n",
       "      <td>35</td>\n",
       "      <td>의료기관</td>\n",
       "      <td>32</td>\n",
       "      <td>235186</td>\n",
       "    </tr>\n",
       "    <tr>\n",
       "      <th>1976240</th>\n",
       "      <td>20190302</td>\n",
       "      <td>종로구</td>\n",
       "      <td>종로1,2,3,4가동</td>\n",
       "      <td>M</td>\n",
       "      <td>25</td>\n",
       "      <td>요식업소</td>\n",
       "      <td>9371</td>\n",
       "      <td>234981</td>\n",
       "    </tr>\n",
       "    <tr>\n",
       "      <th>993748</th>\n",
       "      <td>20180915</td>\n",
       "      <td>종로구</td>\n",
       "      <td>종로1,2,3,4가동</td>\n",
       "      <td>M</td>\n",
       "      <td>25</td>\n",
       "      <td>요식업소</td>\n",
       "      <td>9140</td>\n",
       "      <td>234726</td>\n",
       "    </tr>\n",
       "  </tbody>\n",
       "</table>\n",
       "</div>"
      ],
      "text/plain": [
       "          STD_YMD GU_CD    GUDONG_CD SEX_CD  AGE_CD  TYPE  USE_CNT  USE_AMT\n",
       "2074129  20190318   노원구         중계본동      M      50  의료기관      123  1138252\n",
       "1918965  20190220   노원구         중계본동      M      50  의료기관       72  1131479\n",
       "1754303  20190122   노원구         중계본동      M      50  의료기관      121  1129109\n",
       "1550574  20181218   노원구         중계본동      M      50  의료기관      135  1126231\n",
       "1212955  20181022   노원구         중계본동      M      50  의료기관       71  1108389\n",
       "1007957  20180917   노원구         중계본동      M      50  의료기관       88  1098636\n",
       "691093   20180725   노원구         중계본동      M      50  의료기관       70  1095046\n",
       "1391072  20181121   노원구         중계본동      M      50  의료기관       66  1092718\n",
       "848642   20180821   노원구         중계본동      M      50  의료기관       70  1092105\n",
       "321636   20180524   노원구         중계본동      M      50  의료기관       57  1090946\n",
       "489965   20180621   노원구         중계본동      M      50  의료기관       65  1083279\n",
       "1589982  20181225   종로구  종로1,2,3,4가동      M      25  요식업소    12038   332155\n",
       "1572301  20181222   종로구  종로1,2,3,4가동      M      25  요식업소     9576   287188\n",
       "1893433  20190216   종로구  종로1,2,3,4가동      M      25  요식업소    10043   266889\n",
       "1734745  20190119   종로구  종로1,2,3,4가동      M      25  요식업소    10691   266734\n",
       "2018392  20190309   종로구  종로1,2,3,4가동      M      25  요식업소    10542   266677\n",
       "1775307  20190126   종로구  종로1,2,3,4가동      M      25  요식업소    10111   265333\n",
       "1282001  20181103   종로구  종로1,2,3,4가동      M      25  요식업소    10300   264741\n",
       "1653542  20190105   종로구  종로1,2,3,4가동      M      25  요식업소    10269   259389\n",
       "1694327  20190112   종로구  종로1,2,3,4가동      M      25  요식업소    10516   257248\n",
       "204636   20180505   종로구  종로1,2,3,4가동      M      25  요식업소     9884   256370\n",
       "1583926  20181224   종로구  종로1,2,3,4가동      M      25  요식업소    10458   255600\n",
       "1323229  20181110   종로구  종로1,2,3,4가동      M      25  요식업소     9924   253035\n",
       "1934407  20190223   종로구  종로1,2,3,4가동      M      25  요식업소     9967   251155\n",
       "1448031  20181201   종로구  종로1,2,3,4가동      M      25  요식업소     9185   250419\n",
       "881472   20180827   종로구          이화동      M      65  의료기관     1273   250109\n",
       "888135   20180828   노원구         월계1동      F      35  의료기관       39   248844\n",
       "1603050  20181227   노원구         월계1동      F      35  의료기관       86   248528\n",
       "1613477  20181229   종로구  종로1,2,3,4가동      M      25  요식업소     8091   248180\n",
       "1530565  20181215   종로구  종로1,2,3,4가동      M      25  요식업소     8937   247953\n",
       "288958   20180519   종로구  종로1,2,3,4가동      M      25  요식업소    10076   247785\n",
       "695930   20180726   노원구         월계1동      F      35  의료기관       66   246518\n",
       "1229628  20181025   노원구         월계1동      F      35  의료기관       75   244725\n",
       "2059843  20190316   종로구  종로1,2,3,4가동      M      25  요식업소     9983   244667\n",
       "1970189  20190301   종로구  종로1,2,3,4가동      M      25  요식업소     9829   244419\n",
       "2095599  20190322   종로구          이화동      M      65  의료기관     1285   241857\n",
       "1425241  20181127   노원구         월계1동      F      35  의료기관      114   241196\n",
       "1240266  20181027   종로구  종로1,2,3,4가동      M      25  요식업소     9706   240033\n",
       "2101288  20190323   종로구  종로1,2,3,4가동      M      25  요식업소     9756   239732\n",
       "1198709  20181020   종로구  종로1,2,3,4가동      M      25  요식업소     9121   238783\n",
       "1073509  20180929   종로구  종로1,2,3,4가동      M      25  요식업소    10439   238760\n",
       "1805647  20190131   노원구         월계1동      F      35  의료기관       76   238454\n",
       "1024697  20180920   노원구         월계1동      F      35  의료기관       79   238166\n",
       "1489307  20181208   종로구  종로1,2,3,4가동      M      25  요식업소     8172   237049\n",
       "1365031  20181117   종로구  종로1,2,3,4가동      M      25  요식업소     9286   236945\n",
       "1406521  20181124   종로구  종로1,2,3,4가동      M      25  요식업소     9090   236625\n",
       "2120203  20190326   노원구         월계1동      F      35  의료기관       73   236409\n",
       "1953408  20190226   노원구         월계1동      F      35  의료기관       32   235186\n",
       "1976240  20190302   종로구  종로1,2,3,4가동      M      25  요식업소     9371   234981\n",
       "993748   20180915   종로구  종로1,2,3,4가동      M      25  요식업소     9140   234726"
      ]
     },
     "execution_count": 12,
     "metadata": {
      "tags": []
     },
     "output_type": "execute_result"
    }
   ],
   "source": [
    "df_card.nlargest(50, ['USE_AMT']) "
   ]
  },
  {
   "cell_type": "code",
   "execution_count": null,
   "metadata": {
    "colab": {},
    "colab_type": "code",
    "id": "tLcRq4bVn7uF",
    "outputId": "5de5c8ef-ee60-4e6a-f2ac-6803c512c914"
   },
   "outputs": [
    {
     "data": {
      "text/html": [
       "<div>\n",
       "<style scoped>\n",
       "    .dataframe tbody tr th:only-of-type {\n",
       "        vertical-align: middle;\n",
       "    }\n",
       "\n",
       "    .dataframe tbody tr th {\n",
       "        vertical-align: top;\n",
       "    }\n",
       "\n",
       "    .dataframe thead th {\n",
       "        text-align: right;\n",
       "    }\n",
       "</style>\n",
       "<table border=\"1\" class=\"dataframe\">\n",
       "  <thead>\n",
       "    <tr style=\"text-align: right;\">\n",
       "      <th></th>\n",
       "      <th>STD_YMD</th>\n",
       "      <th>GU_CD</th>\n",
       "      <th>GUDONG_CD</th>\n",
       "      <th>SEX_CD</th>\n",
       "      <th>AGE_CD</th>\n",
       "      <th>TYPE</th>\n",
       "      <th>USE_CNT</th>\n",
       "      <th>USE_AMT</th>\n",
       "    </tr>\n",
       "  </thead>\n",
       "  <tbody>\n",
       "    <tr>\n",
       "      <th>691093</th>\n",
       "      <td>20180725</td>\n",
       "      <td>노원구</td>\n",
       "      <td>중계본동</td>\n",
       "      <td>M</td>\n",
       "      <td>50</td>\n",
       "      <td>의료기관</td>\n",
       "      <td>70</td>\n",
       "      <td>1095046</td>\n",
       "    </tr>\n",
       "    <tr>\n",
       "      <th>1007957</th>\n",
       "      <td>20180917</td>\n",
       "      <td>노원구</td>\n",
       "      <td>중계본동</td>\n",
       "      <td>M</td>\n",
       "      <td>50</td>\n",
       "      <td>의료기관</td>\n",
       "      <td>88</td>\n",
       "      <td>1098636</td>\n",
       "    </tr>\n",
       "    <tr>\n",
       "      <th>1212955</th>\n",
       "      <td>20181022</td>\n",
       "      <td>노원구</td>\n",
       "      <td>중계본동</td>\n",
       "      <td>M</td>\n",
       "      <td>50</td>\n",
       "      <td>의료기관</td>\n",
       "      <td>71</td>\n",
       "      <td>1108389</td>\n",
       "    </tr>\n",
       "    <tr>\n",
       "      <th>1550574</th>\n",
       "      <td>20181218</td>\n",
       "      <td>노원구</td>\n",
       "      <td>중계본동</td>\n",
       "      <td>M</td>\n",
       "      <td>50</td>\n",
       "      <td>의료기관</td>\n",
       "      <td>135</td>\n",
       "      <td>1126231</td>\n",
       "    </tr>\n",
       "    <tr>\n",
       "      <th>1754303</th>\n",
       "      <td>20190122</td>\n",
       "      <td>노원구</td>\n",
       "      <td>중계본동</td>\n",
       "      <td>M</td>\n",
       "      <td>50</td>\n",
       "      <td>의료기관</td>\n",
       "      <td>121</td>\n",
       "      <td>1129109</td>\n",
       "    </tr>\n",
       "    <tr>\n",
       "      <th>1918965</th>\n",
       "      <td>20190220</td>\n",
       "      <td>노원구</td>\n",
       "      <td>중계본동</td>\n",
       "      <td>M</td>\n",
       "      <td>50</td>\n",
       "      <td>의료기관</td>\n",
       "      <td>72</td>\n",
       "      <td>1131479</td>\n",
       "    </tr>\n",
       "    <tr>\n",
       "      <th>2074129</th>\n",
       "      <td>20190318</td>\n",
       "      <td>노원구</td>\n",
       "      <td>중계본동</td>\n",
       "      <td>M</td>\n",
       "      <td>50</td>\n",
       "      <td>의료기관</td>\n",
       "      <td>123</td>\n",
       "      <td>1138252</td>\n",
       "    </tr>\n",
       "  </tbody>\n",
       "</table>\n",
       "</div>"
      ],
      "text/plain": [
       "          STD_YMD GU_CD GUDONG_CD SEX_CD  AGE_CD  TYPE  USE_CNT  USE_AMT\n",
       "691093   20180725   노원구      중계본동      M      50  의료기관       70  1095046\n",
       "1007957  20180917   노원구      중계본동      M      50  의료기관       88  1098636\n",
       "1212955  20181022   노원구      중계본동      M      50  의료기관       71  1108389\n",
       "1550574  20181218   노원구      중계본동      M      50  의료기관      135  1126231\n",
       "1754303  20190122   노원구      중계본동      M      50  의료기관      121  1129109\n",
       "1918965  20190220   노원구      중계본동      M      50  의료기관       72  1131479\n",
       "2074129  20190318   노원구      중계본동      M      50  의료기관      123  1138252"
      ]
     },
     "execution_count": 13,
     "metadata": {
      "tags": []
     },
     "output_type": "execute_result"
    }
   ],
   "source": [
    "df_card[df_card[\"USE_AMT\"]>=1095046] "
   ]
  },
  {
   "cell_type": "markdown",
   "metadata": {
    "colab_type": "text",
    "id": "NxzMEMFKn7uH"
   },
   "source": [
    "가장 큰 소비가 일어나는  50곳들은 지역별 특정 소비 패턴이 보임\n",
    "- 종로구 종로1.2.3.4가동 (110 615) 의료기관(70) =>\"서울대학교 병원\" 추정\n",
    "- 노원구 상계6.7동 (350 695), 중계본동(350 619) 주유소, LPG가스와 같은 연료판매(33) => 상계 6,7동 \"SK엔크린 양지진흥상계주유소\", 중계본동 \"S-Oil 주유소\"\n",
    "- 주로 4,50대 소비자들\n",
    "- 의료기관에서는 건당 평균 1억원 정도, 연료판매에서는 건당 평균 7만원 정도."
   ]
  },
  {
   "cell_type": "code",
   "execution_count": null,
   "metadata": {
    "colab": {},
    "colab_type": "code",
    "id": "jiJyNsYIn7uI"
   },
   "outputs": [],
   "source": [
    "from matplotlib import rc\n",
    "rc('font', family='AppleGothic')\n",
    "plt.rcParams[\"font.size\"] = 11"
   ]
  },
  {
   "cell_type": "code",
   "execution_count": null,
   "metadata": {
    "colab": {},
    "colab_type": "code",
    "id": "C38rZk5In7uL"
   },
   "outputs": [],
   "source": [
    "def bindo(df,wid):## char  데이터 빈도 분석, 그래프까지 반환\n",
    "    dong = Counter(df)\n",
    "    dong_cd = list(dong.keys())\n",
    "    dong_va = list(dong.values())\n",
    "    dong_df = pd.DataFrame()\n",
    "    dong_df['cd'] = dong_cd\n",
    "    dong_df['value'] = dong_va##장르 이름\n",
    "    print(\"가장 큰 값 :\\n\",dong_df[dong_df['value']==dong_df['value'].max()])##가장 큰 값\n",
    "    print(\"가장 작은 값 :\\n\",dong_df[dong_df['value']==dong_df['value'].min()])##가장 작은값\n",
    "    plt.rcParams[\"font.size\"] = 11\n",
    "    plt.figure(figsize = (40,20))\n",
    "    plt.bar(dong_cd, dong_va,width=wid)\n",
    "    plt.xlabel('code', fontsize = 14)\n",
    "    plt.xticks(fontsize = 14)\n",
    "    plt.yticks(fontsize = 14)\n",
    "    return \n",
    "\n",
    "#bindo(df_card['GU_CD'],3)\n",
    "# 노원 종로 큰 차이가 없다."
   ]
  },
  {
   "cell_type": "code",
   "execution_count": null,
   "metadata": {
    "colab": {},
    "colab_type": "code",
    "id": "R1AFT_oXn7uS",
    "outputId": "c64f76a0-54cd-4d0e-e4fb-50c9b243ebcf"
   },
   "outputs": [
    {
     "name": "stdout",
     "output_type": "stream",
     "text": [
      "가장 큰 값 :\n",
      "             cd   value\n",
      "8  종로1,2,3,4가동  122413\n",
      "가장 작은 값 :\n",
      "       cd  value\n",
      "14  창신3동  25935\n"
     ]
    },
    {
     "data": {
      "image/png": "[encoded data removed]",
      "text/plain": [
       "<Figure size 2880x1440 with 1 Axes>"
      ]
     },
     "metadata": {
      "needs_background": "light",
      "tags": []
     },
     "output_type": "display_data"
    }
   ],
   "source": [
    "bindo(df_card['GUDONG_CD'], .5) #빈도가 가장 많은 곳(종로1.2.3.4가동)과 가장 작은 곳(창신3동)의 차이는 약 4배 이상."
   ]
  },
  {
   "cell_type": "markdown",
   "metadata": {
    "colab_type": "text",
    "id": "jgsPvKYsn7uU"
   },
   "source": [
    "## 1.2 행정동별 카드 매출"
   ]
  },
  {
   "cell_type": "code",
   "execution_count": 6,
   "metadata": {
    "colab": {},
    "colab_type": "code",
    "id": "pcCsNkn9n7uV",
    "outputId": "256b389a-d452-4929-f65c-a26c6ce2a7c3",
    "scrolled": true
   },
   "outputs": [
    {
     "data": {
      "text/html": [
       "<div>\n",
       "<style scoped>\n",
       "    .dataframe tbody tr th:only-of-type {\n",
       "        vertical-align: middle;\n",
       "    }\n",
       "\n",
       "    .dataframe tbody tr th {\n",
       "        vertical-align: top;\n",
       "    }\n",
       "\n",
       "    .dataframe thead th {\n",
       "        text-align: right;\n",
       "    }\n",
       "</style>\n",
       "<table border=\"1\" class=\"dataframe\">\n",
       "  <thead>\n",
       "    <tr style=\"text-align: right;\">\n",
       "      <th></th>\n",
       "      <th>STD_YMD</th>\n",
       "      <th>GU_CD</th>\n",
       "      <th>GUDONG_CD</th>\n",
       "      <th>SEX_CD</th>\n",
       "      <th>AGE_CD</th>\n",
       "      <th>TYPE</th>\n",
       "      <th>USE_CNT</th>\n",
       "      <th>USE_AMT</th>\n",
       "    </tr>\n",
       "  </thead>\n",
       "  <tbody>\n",
       "    <tr>\n",
       "      <th>0</th>\n",
       "      <td>20180401</td>\n",
       "      <td>종로구</td>\n",
       "      <td>청운효자동</td>\n",
       "      <td>F</td>\n",
       "      <td>30</td>\n",
       "      <td>레저업소</td>\n",
       "      <td>4</td>\n",
       "      <td>180</td>\n",
       "    </tr>\n",
       "    <tr>\n",
       "      <th>1</th>\n",
       "      <td>20180401</td>\n",
       "      <td>종로구</td>\n",
       "      <td>청운효자동</td>\n",
       "      <td>F</td>\n",
       "      <td>55</td>\n",
       "      <td>레저업소</td>\n",
       "      <td>4</td>\n",
       "      <td>22</td>\n",
       "    </tr>\n",
       "    <tr>\n",
       "      <th>2</th>\n",
       "      <td>20180401</td>\n",
       "      <td>종로구</td>\n",
       "      <td>청운효자동</td>\n",
       "      <td>M</td>\n",
       "      <td>20</td>\n",
       "      <td>레저업소</td>\n",
       "      <td>35</td>\n",
       "      <td>184</td>\n",
       "    </tr>\n",
       "    <tr>\n",
       "      <th>3</th>\n",
       "      <td>20180401</td>\n",
       "      <td>종로구</td>\n",
       "      <td>청운효자동</td>\n",
       "      <td>M</td>\n",
       "      <td>25</td>\n",
       "      <td>레저업소</td>\n",
       "      <td>70</td>\n",
       "      <td>425</td>\n",
       "    </tr>\n",
       "    <tr>\n",
       "      <th>4</th>\n",
       "      <td>20180401</td>\n",
       "      <td>종로구</td>\n",
       "      <td>청운효자동</td>\n",
       "      <td>M</td>\n",
       "      <td>30</td>\n",
       "      <td>레저업소</td>\n",
       "      <td>18</td>\n",
       "      <td>82</td>\n",
       "    </tr>\n",
       "  </tbody>\n",
       "</table>\n",
       "</div>"
      ],
      "text/plain": [
       "    STD_YMD GU_CD GUDONG_CD SEX_CD  AGE_CD  TYPE  USE_CNT  USE_AMT\n",
       "0  20180401   종로구     청운효자동      F      30  레저업소        4      180\n",
       "1  20180401   종로구     청운효자동      F      55  레저업소        4       22\n",
       "2  20180401   종로구     청운효자동      M      20  레저업소       35      184\n",
       "3  20180401   종로구     청운효자동      M      25  레저업소       70      425\n",
       "4  20180401   종로구     청운효자동      M      30  레저업소       18       82"
      ]
     },
     "execution_count": 6,
     "metadata": {},
     "output_type": "execute_result"
    }
   ],
   "source": [
    "df_card.head()"
   ]
  },
  {
   "cell_type": "code",
   "execution_count": 9,
   "metadata": {},
   "outputs": [],
   "source": [
    "df_cd= df_card.copy()"
   ]
  },
  {
   "cell_type": "code",
   "execution_count": 12,
   "metadata": {},
   "outputs": [
    {
     "data": {
      "text/plain": [
       "<matplotlib.axes._subplots.AxesSubplot at 0x21d89b25400>"
      ]
     },
     "execution_count": 12,
     "metadata": {},
     "output_type": "execute_result"
    },
    {
     "data": {
      "image/png": "[encoded data removed]",
      "text/plain": [
       "<Figure size 432x288 with 1 Axes>"
      ]
     },
     "metadata": {
      "needs_background": "light"
     },
     "output_type": "display_data"
    }
   ],
   "source": [
    "dong_amt= df_cd['USE_AMT'].groupby([df_card[\"GUDONG_CD\"]]).mean()\n",
    "dong_amt.plot(\"box\")"
   ]
  },
  {
   "cell_type": "code",
   "execution_count": 18,
   "metadata": {
    "scrolled": true
   },
   "outputs": [
    {
     "data": {
      "image/png": "[encoded data removed]",
      "text/plain": [
       "<Figure size 432x108 with 1 Axes>"
      ]
     },
     "metadata": {
      "needs_background": "light"
     },
     "output_type": "display_data"
    }
   ],
   "source": [
    "plt.figure(figsize = (6,1.5))\n",
    "sns.boxplot(dong_amt)\n",
    "plt.show()"
   ]
  },
  {
   "cell_type": "code",
   "execution_count": 23,
   "metadata": {},
   "outputs": [
    {
     "data": {
      "text/plain": [
       "array([ 946.58052175, 3097.71872977, 1197.84570821,  855.54576474,\n",
       "       1635.2040409 , 1035.9534346 , 2429.14779455, 1093.92525864,\n",
       "       9218.81792783, 2447.1874608 , 5997.07635819, 2551.69715824,\n",
       "        932.29044576,  551.13392221,  256.71582803,  541.22258813,\n",
       "        862.47982364, 1740.25438757,  621.12221578, 2595.56753712,\n",
       "       2419.65572339, 2308.95565422, 3043.84493698,  535.79639383,\n",
       "       1562.47615734, 1801.45466529, 1223.96122193, 3118.76074402,\n",
       "       2312.58596169, 4538.41056855,  773.61798755,  723.38864354,\n",
       "       3395.62614032,  748.95959475,  987.40654916,  331.4444633 ])"
      ]
     },
     "execution_count": 23,
     "metadata": {},
     "output_type": "execute_result"
    }
   ],
   "source": [
    "dong_amt.values"
   ]
  },
  {
   "cell_type": "code",
   "execution_count": 24,
   "metadata": {},
   "outputs": [],
   "source": [
    "temp_x = dong_amt.index\n",
    "temp_y = dong_amt.values"
   ]
  },
  {
   "cell_type": "code",
   "execution_count": 38,
   "metadata": {},
   "outputs": [
    {
     "name": "stdout",
     "output_type": "stream",
     "text": [
      "최소값: 256.7158280316175 최대값:  9218.817927834461\n"
     ]
    }
   ],
   "source": [
    "print(\"최소값:\",temp_y.min(),\"최대값: \",temp_y.max())"
   ]
  },
  {
   "cell_type": "code",
   "execution_count": 35,
   "metadata": {},
   "outputs": [],
   "source": [
    "import matplotlib as mpl\n",
    "import matplotlib.pyplot as plt\n",
    "import matplotlib.font_manager as fm\n",
    "from matplotlib import rc\n",
    "mpl.rcParams['axes.unicode_minus'] = False\n",
    "font_name = fm.FontProperties(fname=\"c:/Windows/Fonts/malgun.ttf\").get_name()\n",
    "rc('font', family=font_name)\n",
    "plt.rcParams[\"font.size\"] = 10 ## 폰트 크기 결정"
   ]
  },
  {
   "cell_type": "code",
   "execution_count": 36,
   "metadata": {
    "scrolled": true
   },
   "outputs": [
    {
     "data": {
      "text/plain": [
       "<matplotlib.axes._subplots.AxesSubplot at 0x21d8b08f7f0>"
      ]
     },
     "execution_count": 36,
     "metadata": {},
     "output_type": "execute_result"
    },
    {
     "data": {
      "image/png": "[encoded data removed]",
      "text/plain": [
       "<Figure size 504x360 with 1 Axes>"
      ]
     },
     "metadata": {
      "needs_background": "light"
     },
     "output_type": "display_data"
    }
   ],
   "source": [
    "plt.figure(figsize = (7,5))\n",
    "dong_amt.plot(\"bar\")"
   ]
  },
  {
   "cell_type": "markdown",
   "metadata": {},
   "source": [
    "### 연령 카드 매출"
   ]
  },
  {
   "cell_type": "code",
   "execution_count": 44,
   "metadata": {},
   "outputs": [],
   "source": [
    "tmp_age = df_cd['USE_AMT'].groupby([df_card[\"AGE_CD\"],df_card[\"SEX_CD\"]]).mean()"
   ]
  },
  {
   "cell_type": "code",
   "execution_count": 49,
   "metadata": {},
   "outputs": [],
   "source": [
    "tmp_sex = df_cd['USE_AMT'].groupby([df_card[\"SEX_CD\"],df_card[\"AGE_CD\"]]).mean()"
   ]
  },
  {
   "cell_type": "code",
   "execution_count": 57,
   "metadata": {},
   "outputs": [],
   "source": [
    "tmp_sex = df_cd[['USE_AMT','AGE_CD']].groupby([df_card[\"SEX_CD\"]]).mean()"
   ]
  },
  {
   "cell_type": "code",
   "execution_count": 58,
   "metadata": {},
   "outputs": [
    {
     "data": {
      "text/html": [
       "<div>\n",
       "<style scoped>\n",
       "    .dataframe tbody tr th:only-of-type {\n",
       "        vertical-align: middle;\n",
       "    }\n",
       "\n",
       "    .dataframe tbody tr th {\n",
       "        vertical-align: top;\n",
       "    }\n",
       "\n",
       "    .dataframe thead th {\n",
       "        text-align: right;\n",
       "    }\n",
       "</style>\n",
       "<table border=\"1\" class=\"dataframe\">\n",
       "  <thead>\n",
       "    <tr style=\"text-align: right;\">\n",
       "      <th></th>\n",
       "      <th>USE_AMT</th>\n",
       "      <th>AGE_CD</th>\n",
       "    </tr>\n",
       "    <tr>\n",
       "      <th>SEX_CD</th>\n",
       "      <th></th>\n",
       "      <th></th>\n",
       "    </tr>\n",
       "  </thead>\n",
       "  <tbody>\n",
       "    <tr>\n",
       "      <th>F</th>\n",
       "      <td>2371.846257</td>\n",
       "      <td>41.835342</td>\n",
       "    </tr>\n",
       "    <tr>\n",
       "      <th>M</th>\n",
       "      <td>2485.968280</td>\n",
       "      <td>41.807150</td>\n",
       "    </tr>\n",
       "  </tbody>\n",
       "</table>\n",
       "</div>"
      ],
      "text/plain": [
       "            USE_AMT     AGE_CD\n",
       "SEX_CD                        \n",
       "F       2371.846257  41.835342\n",
       "M       2485.968280  41.807150"
      ]
     },
     "execution_count": 58,
     "metadata": {},
     "output_type": "execute_result"
    }
   ],
   "source": [
    "tmp_sex "
   ]
  },
  {
   "cell_type": "code",
   "execution_count": 55,
   "metadata": {},
   "outputs": [
    {
     "data": {
      "text/html": [
       "<div>\n",
       "<style scoped>\n",
       "    .dataframe tbody tr th:only-of-type {\n",
       "        vertical-align: middle;\n",
       "    }\n",
       "\n",
       "    .dataframe tbody tr th {\n",
       "        vertical-align: top;\n",
       "    }\n",
       "\n",
       "    .dataframe thead th {\n",
       "        text-align: right;\n",
       "    }\n",
       "</style>\n",
       "<table border=\"1\" class=\"dataframe\">\n",
       "  <thead>\n",
       "    <tr style=\"text-align: right;\">\n",
       "      <th></th>\n",
       "      <th></th>\n",
       "      <th>USE_AMT</th>\n",
       "    </tr>\n",
       "    <tr>\n",
       "      <th>SEX_CD</th>\n",
       "      <th>AGE_CD</th>\n",
       "      <th></th>\n",
       "    </tr>\n",
       "  </thead>\n",
       "  <tbody>\n",
       "    <tr>\n",
       "      <th rowspan=\"10\" valign=\"top\">F</th>\n",
       "      <th>20</th>\n",
       "      <td>2001.237145</td>\n",
       "    </tr>\n",
       "    <tr>\n",
       "      <th>25</th>\n",
       "      <td>2494.002644</td>\n",
       "    </tr>\n",
       "    <tr>\n",
       "      <th>30</th>\n",
       "      <td>2253.069904</td>\n",
       "    </tr>\n",
       "    <tr>\n",
       "      <th>35</th>\n",
       "      <td>2445.540269</td>\n",
       "    </tr>\n",
       "    <tr>\n",
       "      <th>40</th>\n",
       "      <td>2527.116094</td>\n",
       "    </tr>\n",
       "    <tr>\n",
       "      <th>45</th>\n",
       "      <td>3080.007999</td>\n",
       "    </tr>\n",
       "    <tr>\n",
       "      <th>50</th>\n",
       "      <td>2586.189434</td>\n",
       "    </tr>\n",
       "    <tr>\n",
       "      <th>55</th>\n",
       "      <td>2257.078377</td>\n",
       "    </tr>\n",
       "    <tr>\n",
       "      <th>60</th>\n",
       "      <td>1771.346241</td>\n",
       "    </tr>\n",
       "    <tr>\n",
       "      <th>65</th>\n",
       "      <td>2008.502444</td>\n",
       "    </tr>\n",
       "    <tr>\n",
       "      <th rowspan=\"10\" valign=\"top\">M</th>\n",
       "      <th>20</th>\n",
       "      <td>1513.860281</td>\n",
       "    </tr>\n",
       "    <tr>\n",
       "      <th>25</th>\n",
       "      <td>2657.182196</td>\n",
       "    </tr>\n",
       "    <tr>\n",
       "      <th>30</th>\n",
       "      <td>2352.628773</td>\n",
       "    </tr>\n",
       "    <tr>\n",
       "      <th>35</th>\n",
       "      <td>2638.762489</td>\n",
       "    </tr>\n",
       "    <tr>\n",
       "      <th>40</th>\n",
       "      <td>2573.845096</td>\n",
       "    </tr>\n",
       "    <tr>\n",
       "      <th>45</th>\n",
       "      <td>3026.686347</td>\n",
       "    </tr>\n",
       "    <tr>\n",
       "      <th>50</th>\n",
       "      <td>2741.323897</td>\n",
       "    </tr>\n",
       "    <tr>\n",
       "      <th>55</th>\n",
       "      <td>2359.532299</td>\n",
       "    </tr>\n",
       "    <tr>\n",
       "      <th>60</th>\n",
       "      <td>2016.607742</td>\n",
       "    </tr>\n",
       "    <tr>\n",
       "      <th>65</th>\n",
       "      <td>2806.905156</td>\n",
       "    </tr>\n",
       "  </tbody>\n",
       "</table>\n",
       "</div>"
      ],
      "text/plain": [
       "                   USE_AMT\n",
       "SEX_CD AGE_CD             \n",
       "F      20      2001.237145\n",
       "       25      2494.002644\n",
       "       30      2253.069904\n",
       "       35      2445.540269\n",
       "       40      2527.116094\n",
       "       45      3080.007999\n",
       "       50      2586.189434\n",
       "       55      2257.078377\n",
       "       60      1771.346241\n",
       "       65      2008.502444\n",
       "M      20      1513.860281\n",
       "       25      2657.182196\n",
       "       30      2352.628773\n",
       "       35      2638.762489\n",
       "       40      2573.845096\n",
       "       45      3026.686347\n",
       "       50      2741.323897\n",
       "       55      2359.532299\n",
       "       60      2016.607742\n",
       "       65      2806.905156"
      ]
     },
     "execution_count": 55,
     "metadata": {},
     "output_type": "execute_result"
    }
   ],
   "source": [
    " = pd.DataFrame(tmp_sex)"
   ]
  },
  {
   "cell_type": "code",
   "execution_count": 46,
   "metadata": {},
   "outputs": [
    {
     "data": {
      "text/plain": [
       "AGE_CD  SEX_CD\n",
       "20      F         2001.237145\n",
       "        M         1513.860281\n",
       "25      F         2494.002644\n",
       "        M         2657.182196\n",
       "30      F         2253.069904\n",
       "        M         2352.628773\n",
       "35      F         2445.540269\n",
       "        M         2638.762489\n",
       "40      F         2527.116094\n",
       "        M         2573.845096\n",
       "45      F         3080.007999\n",
       "        M         3026.686347\n",
       "50      F         2586.189434\n",
       "        M         2741.323897\n",
       "55      F         2257.078377\n",
       "        M         2359.532299\n",
       "60      F         1771.346241\n",
       "        M         2016.607742\n",
       "65      F         2008.502444\n",
       "        M         2806.905156\n",
       "Name: USE_AMT, dtype: float64"
      ]
     },
     "execution_count": 46,
     "metadata": {},
     "output_type": "execute_result"
    }
   ],
   "source": [
    "tmp_age"
   ]
  },
  {
   "cell_type": "code",
   "execution_count": 48,
   "metadata": {},
   "outputs": [
    {
     "data": {
      "text/plain": [
       "<matplotlib.axes._subplots.AxesSubplot at 0x21d8b4c7d68>"
      ]
     },
     "execution_count": 48,
     "metadata": {},
     "output_type": "execute_result"
    },
    {
     "data": {
      "image/png": "[encoded data removed]",
      "text/plain": [
       "<Figure size 432x288 with 1 Axes>"
      ]
     },
     "metadata": {
      "needs_background": "light"
     },
     "output_type": "display_data"
    }
   ],
   "source": [
    "tmp_age.plot(\"bar\")"
   ]
  },
  {
   "cell_type": "code",
   "execution_count": 42,
   "metadata": {
    "scrolled": true
   },
   "outputs": [
    {
     "data": {
      "text/plain": [
       "<matplotlib.axes._subplots.AxesSubplot at 0x21d8b1ff208>"
      ]
     },
     "execution_count": 42,
     "metadata": {},
     "output_type": "execute_result"
    },
    {
     "data": {
      "image/png": "[encoded data removed]",
      "text/plain": [
       "<Figure size 432x288 with 1 Axes>"
      ]
     },
     "metadata": {
      "needs_background": "light"
     },
     "output_type": "display_data"
    }
   ],
   "source": [
    "tmp_age.plot(\"bar\")"
   ]
  },
  {
   "cell_type": "markdown",
   "metadata": {},
   "source": [
    "### 업종별 카드 매출"
   ]
  },
  {
   "cell_type": "code",
   "execution_count": 95,
   "metadata": {
    "scrolled": true
   },
   "outputs": [
    {
     "data": {
      "text/plain": [
       "Text(0.5, 0, '업종별 평균 카드 매출액')"
      ]
     },
     "execution_count": 95,
     "metadata": {},
     "output_type": "execute_result"
    },
    {
     "data": {
      "image/png": "[encoded data removed]",
      "text/plain": [
       "<Figure size 648x360 with 1 Axes>"
      ]
     },
     "metadata": {
      "needs_background": "light"
     },
     "output_type": "display_data"
    }
   ],
   "source": [
    "df_cdty = df_cd.rename(columns={'TYPE':'업종'})\n",
    "tmp_ty = df_cdty['USE_AMT'].groupby([df_cdty[\"업종\"]]).mean()\n",
    "\n",
    "plt.figure(figsize=(9,5))\n",
    "tmp_ty.plot(\"bar\",width=0.6)\n",
    "plt.xticks(fontsize = 12)\n",
    "plt.xlabel(\"업종별 평균 카드 매출액\",fontsize = 14)"
   ]
  },
  {
   "cell_type": "code",
   "execution_count": 101,
   "metadata": {},
   "outputs": [
    {
     "name": "stdout",
     "output_type": "stream",
     "text": [
      "최대매출 :  요식업소 6504.799804365338\n",
      "최소매출 :  수리서비스 172.95778339706428\n"
     ]
    },
    {
     "name": "stderr",
     "output_type": "stream",
     "text": [
      "C:\\Anaconda3\\lib\\site-packages\\ipykernel_launcher.py:1: FutureWarning: \n",
      "The current behaviour of 'Series.argmax' is deprecated, use 'idxmax'\n",
      "instead.\n",
      "The behavior of 'argmax' will be corrected to return the positional\n",
      "maximum in the future. For now, use 'series.values.argmax' or\n",
      "'np.argmax(np.array(values))' to get the position of the maximum\n",
      "row.\n",
      "  \"\"\"Entry point for launching an IPython kernel.\n",
      "C:\\Anaconda3\\lib\\site-packages\\ipykernel_launcher.py:2: FutureWarning: \n",
      "The current behaviour of 'Series.argmin' is deprecated, use 'idxmin'\n",
      "instead.\n",
      "The behavior of 'argmin' will be corrected to return the positional\n",
      "minimum in the future. For now, use 'series.values.argmin' or\n",
      "'np.argmin(np.array(values))' to get the position of the minimum\n",
      "row.\n",
      "  \n"
     ]
    }
   ],
   "source": [
    "print(\"최대매출 : \",tmp_ty.argmax(),tmp_ty.max())\n",
    "print(\"최소매출 : \",tmp_ty.argmin(),tmp_ty.min())"
   ]
  },
  {
   "cell_type": "code",
   "execution_count": 105,
   "metadata": {},
   "outputs": [],
   "source": [
    "tmp_ty = df_cdty['USE_CNT'].groupby([df_cdty[\"업종\"]]).sum()"
   ]
  },
  {
   "cell_type": "code",
   "execution_count": 106,
   "metadata": {},
   "outputs": [
    {
     "name": "stdout",
     "output_type": "stream",
     "text": [
      "최대매출건수 :  요식업소 89442576\n",
      "최소매출 건수:  전기 14822\n"
     ]
    },
    {
     "name": "stderr",
     "output_type": "stream",
     "text": [
      "C:\\Anaconda3\\lib\\site-packages\\ipykernel_launcher.py:1: FutureWarning: \n",
      "The current behaviour of 'Series.argmax' is deprecated, use 'idxmax'\n",
      "instead.\n",
      "The behavior of 'argmax' will be corrected to return the positional\n",
      "maximum in the future. For now, use 'series.values.argmax' or\n",
      "'np.argmax(np.array(values))' to get the position of the maximum\n",
      "row.\n",
      "  \"\"\"Entry point for launching an IPython kernel.\n",
      "C:\\Anaconda3\\lib\\site-packages\\ipykernel_launcher.py:2: FutureWarning: \n",
      "The current behaviour of 'Series.argmin' is deprecated, use 'idxmin'\n",
      "instead.\n",
      "The behavior of 'argmin' will be corrected to return the positional\n",
      "minimum in the future. For now, use 'series.values.argmin' or\n",
      "'np.argmin(np.array(values))' to get the position of the minimum\n",
      "row.\n",
      "  \n"
     ]
    }
   ],
   "source": [
    "print(\"최대매출건수 : \",tmp_ty.argmax(),tmp_ty.max())\n",
    "print(\"최소매출 건수: \",tmp_ty.argmin(),tmp_ty.min())"
   ]
  },
  {
   "cell_type": "code",
   "execution_count": 107,
   "metadata": {},
   "outputs": [
    {
     "data": {
      "text/plain": [
       "Text(0.5, 0, '업종별 평균 카드 매출건수')"
      ]
     },
     "execution_count": 107,
     "metadata": {},
     "output_type": "execute_result"
    },
    {
     "data": {
      "image/png": "[encoded data removed]",
      "text/plain": [
       "<Figure size 648x360 with 1 Axes>"
      ]
     },
     "metadata": {
      "needs_background": "light"
     },
     "output_type": "display_data"
    }
   ],
   "source": [
    "plt.figure(figsize=(9,5))\n",
    "tmp_ty.plot(\"bar\",width=0.6)\n",
    "plt.xticks(fontsize = 12)\n",
    "plt.xlabel(\"업종별 평균 카드 매출건수\",fontsize = 14)"
   ]
  },
  {
   "cell_type": "code",
   "execution_count": 89,
   "metadata": {},
   "outputs": [
    {
     "data": {
      "text/plain": [
       "Text(0.5, 0, '업종별 평균 카드 매출액')"
      ]
     },
     "execution_count": 89,
     "metadata": {},
     "output_type": "execute_result"
    },
    {
     "data": {
      "image/png": "[encoded data removed]",
      "text/plain": [
       "<Figure size 648x360 with 1 Axes>"
      ]
     },
     "metadata": {
      "needs_background": "light"
     },
     "output_type": "display_data"
    }
   ],
   "source": []
  },
  {
   "cell_type": "code",
   "execution_count": null,
   "metadata": {},
   "outputs": [],
   "source": [
    "tmp_ty = df_cd['USE_AMT'].groupby([df_card[\"TYPE\"]]).mean()"
   ]
  },
  {
   "cell_type": "code",
   "execution_count": 75,
   "metadata": {},
   "outputs": [
    {
     "data": {
      "text/plain": [
       "<matplotlib.axes._subplots.AxesSubplot at 0x21d9647b860>"
      ]
     },
     "execution_count": 75,
     "metadata": {},
     "output_type": "execute_result"
    },
    {
     "data": {
      "image/png": "[encoded data removed]",
      "text/plain": [
       "<Figure size 648x360 with 1 Axes>"
      ]
     },
     "metadata": {
      "needs_background": "light"
     },
     "output_type": "display_data"
    }
   ],
   "source": [
    "plt.figure(figsize=(9,5))\n",
    "tmp_ty.plot(\"bar\",width=0.5)"
   ]
  }
 ],
 "metadata": {
  "colab": {
   "name": "dustcard_20190907.ipynb",
   "provenance": [],
   "version": "0.3.2"
  },
  "kernelspec": {
   "display_name": "Python 3",
   "language": "python",
   "name": "python3"
  },
  "language_info": {
   "codemirror_mode": {
    "name": "ipython",
    "version": 3
   },
   "file_extension": ".py",
   "mimetype": "text/x-python",
   "name": "python",
   "nbconvert_exporter": "python",
   "pygments_lexer": "ipython3",
   "version": "3.7.1"
  }
 },
 "nbformat": 4,
 "nbformat_minor": 2
}
