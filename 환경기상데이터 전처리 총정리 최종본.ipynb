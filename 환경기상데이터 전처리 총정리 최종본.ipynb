{
 "cells": [
  {
   "cell_type": "markdown",
   "metadata": {},
   "source": [
    "## 1. 패키지 설치"
   ]
  },
  {
   "cell_type": "code",
   "execution_count": null,
   "metadata": {},
   "outputs": [],
   "source": [
    "## 패키지 설치\n",
    "import glob\n",
    "import pandas as pd\n",
    "import numpy as np\n",
    "import os\n",
    "import matplotlib.pyplot as plt\n",
    "import seaborn as sns\n",
    "from collections import Counter\n",
    "import math\n",
    "import copy"
   ]
  },
  {
   "cell_type": "markdown",
   "metadata": {},
   "source": [
    "## 2. 노원, 종로구 데이터 합치기\n",
    "### 아래 파일 경로 안에 대회에서 제공한 환경기상데이터 csv 파일들이 다 들어있어야 함."
   ]
  },
  {
   "cell_type": "code",
   "execution_count": 2,
   "metadata": {},
   "outputs": [],
   "source": [
    "## 노원, 종로구 데이터 합치기\n",
    "# 아래 파일 경로 안에 대회에서 제공한 환경기상데이터 csv 파일들이 다 들어있어야 함.\n",
    "path =r'C:\\Users\\korea\\practice\\환경기상데이터' \n",
    "allFiles = glob.glob(path + \"/*.csv\")\n",
    "frame = pd.DataFrame()\n",
    "finedust= []\n",
    "for file_ in allFiles:\n",
    "    data_frame=pd.read_csv(file_,index_col=None)\n",
    "    finedust.append(data_frame)\n",
    "    #list_.append(finedust)\n",
    "finedust_concat=pd.concat(finedust,axis=0,ignore_index=True)\n"
   ]
  },
  {
   "cell_type": "code",
   "execution_count": 3,
   "metadata": {},
   "outputs": [],
   "source": [
    "## 노원, 종로구에 구, 동 변수 추가. dong= 각 파일마다 변수\n",
    "# 우선, 측정기번호, 측정기위치, 행정구, 행정동 변수가 있는 파일을 가져오자.\n",
    "# 환경기상데이터 csv파일과 다른 경로에 있어야 함. \n",
    "envi_gu_dong=pd.read_csv(r'C:\\Users\\korea\\practice\\environment_gu_dong.csv',encoding='utf-8')\n",
    "\n",
    "#그리고 serial을 기준으로 merge하자.\n",
    "finedust=pd.merge(finedust_concat,envi_gu_dong,on='serial')\n"
   ]
  },
  {
   "cell_type": "code",
   "execution_count": 4,
   "metadata": {},
   "outputs": [],
   "source": [
    "# 이상한 변수 Unnamed: 10 삭제\n",
    "finedust = finedust.drop('Unnamed: 10',axis=1)"
   ]
  },
  {
   "cell_type": "markdown",
   "metadata": {},
   "source": [
    "## 3. 결측치, 극단치 제어 및 각종 전처리"
   ]
  },
  {
   "cell_type": "code",
   "execution_count": 5,
   "metadata": {},
   "outputs": [
    {
     "data": {
      "text/plain": [
       " 1      22467385\n",
       "-999      723815\n",
       "dtype: int64"
      ]
     },
     "execution_count": 5,
     "metadata": {},
     "output_type": "execute_result"
    }
   ],
   "source": [
    "# 실내 측정기 있는지 확인. 아예 없으면, co2와 vocs는 삭제 가능\n",
    "# flag, co2, vocs 삭제 근거 찾기\n",
    "pd.value_counts(finedust['flag'].values, sort=False)\n",
    "# 실내측정기(flag)는 없는 것 같다. 없거나 -999. "
   ]
  },
  {
   "cell_type": "code",
   "execution_count": 6,
   "metadata": {},
   "outputs": [
    {
     "data": {
      "text/plain": [
       "-9999    22467385\n",
       "-999       723815\n",
       "dtype: int64"
      ]
     },
     "execution_count": 6,
     "metadata": {},
     "output_type": "execute_result"
    }
   ],
   "source": [
    "# 실내에서만 측정되는 co2와 vocs의 빈도도 확인해보자.\n",
    "pd.value_counts(finedust['co2'].values, sort=False)\n",
    "# 역시 삭제하자."
   ]
  },
  {
   "cell_type": "code",
   "execution_count": 7,
   "metadata": {},
   "outputs": [
    {
     "data": {
      "text/plain": [
       "-9999    22467385\n",
       "-999       723815\n",
       "dtype: int64"
      ]
     },
     "execution_count": 7,
     "metadata": {},
     "output_type": "execute_result"
    }
   ],
   "source": [
    "pd.value_counts(finedust['vocs'].values, sort=False)\n",
    "# 이 변수도 삭제하자."
   ]
  },
  {
   "cell_type": "code",
   "execution_count": 8,
   "metadata": {},
   "outputs": [],
   "source": [
    "# 위에서 언급한 3개 변수(flag,co2,vocs) 삭제\n",
    "finedust=finedust.drop(['flag','co2','vocs'],axis=1)"
   ]
  },
  {
   "cell_type": "code",
   "execution_count": 9,
   "metadata": {},
   "outputs": [],
   "source": [
    "## 본격적으로 결측치와 극단치 제어.\n",
    "# 먼저, 도렴동(V01o1610468)의 관측치를 제거하자. 도렴동 csv 파일을 열어보니 데이터가 모두 결측.\n",
    "# register_date 필요 없음. 2018년 4월 이전에 다 등록. 해당 변수 삭제. \n",
    "finedust = finedust[finedust.serial!='V01o1610468']\n",
    "finedust = finedust.drop('register_date',axis=1)\n",
    "\n"
   ]
  },
  {
   "cell_type": "code",
   "execution_count": 10,
   "metadata": {},
   "outputs": [
    {
     "name": "stderr",
     "output_type": "stream",
     "text": [
      "C:\\Users\\korea\\Anaconda3\\lib\\site-packages\\pandas\\core\\indexing.py:190: SettingWithCopyWarning: \n",
      "A value is trying to be set on a copy of a slice from a DataFrame\n",
      "\n",
      "See the caveats in the documentation: http://pandas.pydata.org/pandas-docs/stable/indexing.html#indexing-view-versus-copy\n",
      "  self._setitem_with_indexer(indexer, value)\n"
     ]
    }
   ],
   "source": [
    "# 음의 극단치들 모두 결측으로 처리하기\n",
    "finedust1 = copy.deepcopy(finedust)\n",
    "\n",
    "finedust1.pm10.loc[finedust1.pm10<0] = None\n",
    "finedust1.noise.loc[finedust1.noise<0] = None\n",
    "finedust1.temp.loc[finedust1.temp<-40] = None\n",
    "finedust1.humi.loc[finedust1.humi<0] = None\n",
    "finedust1.pm25.loc[finedust1.pm25<0] = None\n"
   ]
  },
  {
   "cell_type": "code",
   "execution_count": 11,
   "metadata": {},
   "outputs": [
    {
     "name": "stderr",
     "output_type": "stream",
     "text": [
      "C:\\Users\\korea\\Anaconda3\\lib\\site-packages\\ipykernel_launcher.py:25: SettingWithCopyWarning: \n",
      "A value is trying to be set on a copy of a slice from a DataFrame\n",
      "\n",
      "See the caveats in the documentation: http://pandas.pydata.org/pandas-docs/stable/indexing.html#indexing-view-versus-copy\n"
     ]
    }
   ],
   "source": [
    "# 양의 극단치 pm25 없애주기. IQR*3 + Q3 기준. \n",
    "# 참고로 온도, 습도, 바람은 양의 극단치 발견 X\n",
    "#np.percentile(x, 75)  # 3사분위 수.\n",
    "# boxplot에서 최대값은 3분위수 + 1.5 * IQR\n",
    "finedust2=finedust1.reset_index(inplace=False)\n",
    "\n",
    "# pm25의 3분위수를 계산하자.\n",
    "finedust3_pm25 = finedust2['pm25'].dropna() # 결측이 있으면 percentile 못 쓴다. \n",
    "# 계산비용으로 인해 IQR * 3 + Q3 적용. \n",
    "iqr_pm25 = (np.percentile(finedust3_pm25,75)-np.percentile(finedust3_pm25,25))*3 + np.percentile(finedust3_pm25,75) \n",
    "[iqr_pm25,sum(finedust3_pm25>=iqr_pm25)] \n",
    "# 83 초과는 내 검사기에 들어갈 것이고 대략 120만개.. \n",
    "\n",
    "pm25_outlier=finedust3_pm25[finedust3_pm25>=iqr_pm25] # iqr max 넘은 것들만 거르기\n",
    "pm25_outlier_index= pm25_outlier.index.tolist() # 인덱스들을 리스트로 만들고.. \n",
    "[iqr_pm25,sum(finedust3_pm25>=iqr_pm25)] \n",
    "\n",
    "# 관측치의 앞 5개 관측치보다 너무 다르면, 결측으로 처리하는 코드\n",
    "for i in pm25_outlier_index:\n",
    "    bound=range(i-5,i)\n",
    "    before_pm25=finedust2.iloc[list(bound),6]\n",
    "    if before_pm25.isnull().all()==True: # i번째 전 5개 관측이 모두 결측이면 넘어가기\n",
    "        continue\n",
    "    if max(filter(lambda v: v is not None, before_pm25))*10 <= finedust2.pm25[i]:\n",
    "        finedust2.pm25[i] = None # 6번째가 pm25. 앞 5개의 최대값 * 10이 지금 값보다 작다면 그건 양의 결측치\n"
   ]
  },
  {
   "cell_type": "code",
   "execution_count": 13,
   "metadata": {},
   "outputs": [
    {
     "name": "stderr",
     "output_type": "stream",
     "text": [
      "C:\\Users\\korea\\Anaconda3\\lib\\site-packages\\ipykernel_launcher.py:19: SettingWithCopyWarning: \n",
      "A value is trying to be set on a copy of a slice from a DataFrame\n",
      "\n",
      "See the caveats in the documentation: http://pandas.pydata.org/pandas-docs/stable/indexing.html#indexing-view-versus-copy\n"
     ]
    }
   ],
   "source": [
    "###양의 극단치 pm10 없애주기. IQR*3 + Q3\n",
    "\n",
    "finedust3_pm10 = finedust2['pm10'].dropna() # 결측이 있으면 percentile 못 쓴다. \n",
    "iqr_pm10 = (np.percentile(finedust3_pm10,75)-np.percentile(finedust3_pm10,25))*4 + np.percentile(finedust3_pm10,75) \n",
    "# 계산비용으로 인해 IQR * 3 + Q3 적용. \n",
    "[iqr_pm10,sum(finedust3_pm10>=iqr_pm10)] \n",
    "# 83 초과는 내 검사기에 들어갈 것이고 대략 120만개.. \n",
    "\n",
    "pm10_outlier=finedust3_pm10[finedust3_pm10>=iqr_pm10] # iqr max 넘은 것들만 거르기\n",
    "pm10_outlier_index= pm10_outlier.index.tolist() # 인덱스들을 리스트로 만들고.. \n",
    "[iqr_pm10,sum(finedust3_pm10>=iqr_pm10)] \n",
    "\n",
    "for i in pm10_outlier_index:\n",
    "    bound=range(i-5,i)\n",
    "    before_pm10=finedust2.iloc[list(bound),6]\n",
    "    if before_pm10.isnull().all()==True: # i번째 전 5개 관측이 모두 결측이면 넘어가기\n",
    "        continue\n",
    "    if max(filter(lambda v: v is not None, before_pm10))*10 <= finedust2.pm10[i]:\n",
    "        finedust2.pm10[i] = None # 6번째가 pm10. 앞 5개의 최대값 * 10이 지금 값보다 작다면 그건 양의 결측치"
   ]
  },
  {
   "cell_type": "code",
   "execution_count": 14,
   "metadata": {},
   "outputs": [
    {
     "name": "stderr",
     "output_type": "stream",
     "text": [
      "C:\\Users\\korea\\Anaconda3\\lib\\site-packages\\ipykernel_launcher.py:2: SettingWithCopyWarning: \n",
      "A value is trying to be set on a copy of a slice from a DataFrame\n",
      "\n",
      "See the caveats in the documentation: http://pandas.pydata.org/pandas-docs/stable/indexing.html#indexing-view-versus-copy\n",
      "  \n",
      "C:\\Users\\korea\\Anaconda3\\lib\\site-packages\\ipykernel_launcher.py:3: SettingWithCopyWarning: \n",
      "A value is trying to be set on a copy of a slice from a DataFrame\n",
      "\n",
      "See the caveats in the documentation: http://pandas.pydata.org/pandas-docs/stable/indexing.html#indexing-view-versus-copy\n",
      "  This is separate from the ipykernel package so we can avoid doing imports until\n"
     ]
    }
   ],
   "source": [
    "# 영천동 277(천연동) -> 교남동 , 태평로1가 68-2(명동) -> 종로 1,2,3,4가동\n",
    "finedust2.dong[finedust2.spot=='영천동 277']='교남동'\n",
    "finedust2.dong[finedust2.spot=='태평로1가 68-2']='종로 1,2,3,4가동'\n"
   ]
  },
  {
   "cell_type": "code",
   "execution_count": 15,
   "metadata": {},
   "outputs": [
    {
     "data": {
      "text/plain": [
       "index          0\n",
       "tm             0\n",
       "serial         0\n",
       "pm10      339938\n",
       "noise     289995\n",
       "temp      364725\n",
       "humi      364725\n",
       "pm25      325697\n",
       "spot           0\n",
       "gu             0\n",
       "dong           0\n",
       "dtype: int64"
      ]
     },
     "execution_count": 15,
     "metadata": {},
     "output_type": "execute_result"
    }
   ],
   "source": [
    "finedust2.isnull().sum()\n",
    "# isnull().all()로 했을 때. 결측이 약 1만개, 2만개 증가."
   ]
  },
  {
   "cell_type": "code",
   "execution_count": 16,
   "metadata": {},
   "outputs": [
    {
     "data": {
      "text/html": [
       "<div>\n",
       "<style scoped>\n",
       "    .dataframe tbody tr th:only-of-type {\n",
       "        vertical-align: middle;\n",
       "    }\n",
       "\n",
       "    .dataframe tbody tr th {\n",
       "        vertical-align: top;\n",
       "    }\n",
       "\n",
       "    .dataframe thead th {\n",
       "        text-align: right;\n",
       "    }\n",
       "</style>\n",
       "<table border=\"1\" class=\"dataframe\">\n",
       "  <thead>\n",
       "    <tr style=\"text-align: right;\">\n",
       "      <th></th>\n",
       "      <th>tm</th>\n",
       "      <th>serial</th>\n",
       "      <th>pm10</th>\n",
       "      <th>noise</th>\n",
       "      <th>temp</th>\n",
       "      <th>humi</th>\n",
       "      <th>pm25</th>\n",
       "      <th>spot</th>\n",
       "      <th>gu</th>\n",
       "      <th>dong</th>\n",
       "    </tr>\n",
       "    <tr>\n",
       "      <th>index</th>\n",
       "      <th></th>\n",
       "      <th></th>\n",
       "      <th></th>\n",
       "      <th></th>\n",
       "      <th></th>\n",
       "      <th></th>\n",
       "      <th></th>\n",
       "      <th></th>\n",
       "      <th></th>\n",
       "      <th></th>\n",
       "    </tr>\n",
       "  </thead>\n",
       "  <tbody>\n",
       "    <tr>\n",
       "      <th>446400</th>\n",
       "      <td>201805070000</td>\n",
       "      <td>V10O1610102</td>\n",
       "      <td>NaN</td>\n",
       "      <td>NaN</td>\n",
       "      <td>NaN</td>\n",
       "      <td>NaN</td>\n",
       "      <td>NaN</td>\n",
       "      <td>하계동 251</td>\n",
       "      <td>1</td>\n",
       "      <td>하계1동</td>\n",
       "    </tr>\n",
       "    <tr>\n",
       "      <th>446401</th>\n",
       "      <td>201805070001</td>\n",
       "      <td>V10O1610102</td>\n",
       "      <td>NaN</td>\n",
       "      <td>NaN</td>\n",
       "      <td>NaN</td>\n",
       "      <td>NaN</td>\n",
       "      <td>NaN</td>\n",
       "      <td>하계동 251</td>\n",
       "      <td>1</td>\n",
       "      <td>하계1동</td>\n",
       "    </tr>\n",
       "    <tr>\n",
       "      <th>446402</th>\n",
       "      <td>201805070002</td>\n",
       "      <td>V10O1610102</td>\n",
       "      <td>NaN</td>\n",
       "      <td>NaN</td>\n",
       "      <td>NaN</td>\n",
       "      <td>NaN</td>\n",
       "      <td>NaN</td>\n",
       "      <td>하계동 251</td>\n",
       "      <td>1</td>\n",
       "      <td>하계1동</td>\n",
       "    </tr>\n",
       "    <tr>\n",
       "      <th>446403</th>\n",
       "      <td>201805070003</td>\n",
       "      <td>V10O1610102</td>\n",
       "      <td>NaN</td>\n",
       "      <td>NaN</td>\n",
       "      <td>NaN</td>\n",
       "      <td>NaN</td>\n",
       "      <td>NaN</td>\n",
       "      <td>하계동 251</td>\n",
       "      <td>1</td>\n",
       "      <td>하계1동</td>\n",
       "    </tr>\n",
       "    <tr>\n",
       "      <th>446404</th>\n",
       "      <td>201805070004</td>\n",
       "      <td>V10O1610102</td>\n",
       "      <td>NaN</td>\n",
       "      <td>NaN</td>\n",
       "      <td>NaN</td>\n",
       "      <td>NaN</td>\n",
       "      <td>NaN</td>\n",
       "      <td>하계동 251</td>\n",
       "      <td>1</td>\n",
       "      <td>하계1동</td>\n",
       "    </tr>\n",
       "  </tbody>\n",
       "</table>\n",
       "</div>"
      ],
      "text/plain": [
       "                  tm       serial  pm10  noise  temp  humi  pm25     spot  gu  \\\n",
       "index                                                                           \n",
       "446400  201805070000  V10O1610102   NaN    NaN   NaN   NaN   NaN  하계동 251   1   \n",
       "446401  201805070001  V10O1610102   NaN    NaN   NaN   NaN   NaN  하계동 251   1   \n",
       "446402  201805070002  V10O1610102   NaN    NaN   NaN   NaN   NaN  하계동 251   1   \n",
       "446403  201805070003  V10O1610102   NaN    NaN   NaN   NaN   NaN  하계동 251   1   \n",
       "446404  201805070004  V10O1610102   NaN    NaN   NaN   NaN   NaN  하계동 251   1   \n",
       "\n",
       "        dong  \n",
       "index         \n",
       "446400  하계1동  \n",
       "446401  하계1동  \n",
       "446402  하계1동  \n",
       "446403  하계1동  \n",
       "446404  하계1동  "
      ]
     },
     "execution_count": 16,
     "metadata": {},
     "output_type": "execute_result"
    }
   ],
   "source": [
    "# 행정동 띄어쓰기 없애기\n",
    "finedust2.set_index('index',inplace=True)\n",
    "finedust2.dong.loc[finedust2.dong=='종로 1,2,3,4가동'] = '종로1,2,3,4가동' # 행정동에 공백 없애기\n",
    "finedust2.head()"
   ]
  },
  {
   "cell_type": "code",
   "execution_count": 17,
   "metadata": {},
   "outputs": [
    {
     "data": {
      "image/png": "[encoded data removed]",
      "text/plain": [
       "<Figure size 432x288 with 1 Axes>"
      ]
     },
     "metadata": {
      "needs_background": "light"
     },
     "output_type": "display_data"
    },
    {
     "data": {
      "image/png": "[encoded data removed]",
      "text/plain": [
       "<Figure size 432x288 with 1 Axes>"
      ]
     },
     "metadata": {
      "needs_background": "light"
     },
     "output_type": "display_data"
    }
   ],
   "source": [
    "## 이제, 주요변수인 pm10과 pm25부터 분포를 살펴보자.\n",
    "# 2가지 주요변수는 숫자형임을 주목하자. \n",
    "numerical_feature=['pm10','pm25']\n",
    "\n",
    "for col in numerical_feature:\n",
    "    sns.distplot(finedust2.loc[finedust2[col].notnull(), col])\n",
    "    plt.title(col)\n",
    "    plt.show()\n",
    "# 두 변수 모두 극단치가 많은 분포. 오른쪽으로 꼬리가 길다."
   ]
  },
  {
   "cell_type": "code",
   "execution_count": 18,
   "metadata": {},
   "outputs": [],
   "source": [
    "# 세종로 100 관측소가 여러 개여서 평균을 통해서 하나로 합치기.\n",
    "finedust_temp = finedust2.loc[finedust2.spot=='세종로 100']\n",
    "grouped1=finedust_temp['pm25'].groupby(finedust_temp['tm'])\n",
    "grouped2=finedust_temp['pm10'].groupby(finedust_temp['tm'])\n",
    "grouped3=finedust_temp['noise'].groupby(finedust_temp['tm'])\n",
    "grouped4=finedust_temp['temp'].groupby(finedust_temp['tm'])\n",
    "grouped5=finedust_temp['humi'].groupby(finedust_temp['tm'])\n",
    "\n",
    "# 그룹화한 것들을 평균 때리자.\n",
    "grouped1.mean()\n",
    "grouped2.mean()\n",
    "grouped3.mean()\n",
    "grouped4.mean()\n",
    "grouped5.mean()\n",
    "\n",
    "# 바로 위의 시리즈들을 합쳐서 데이터프레임으로 만들자\n",
    "grouped_temp = pd.concat([grouped1.mean(),grouped2.mean(),grouped3.mean(),grouped4.mean(),grouped5.mean()],axis=1)\n",
    "\n",
    "# tm 변수 살리고, spot 변수 추가 \n",
    "grouped_temp=grouped_temp.reset_index()\n",
    "grouped_temp['spot'] = '세종로 100'\n",
    "grouped_temp['dong'] = '종로1,2,3,4가동'\n",
    "grouped_temp['gu'] = 0\n",
    "grouped_temp['serial'] = 'sejong'\n",
    "\n",
    "## 이제 finedust2에서 세종로 100인 것을 삭제하고 grouped_temp를 가져오자.\n",
    "finedust3 = finedust2.loc[finedust2.spot != '세종로 100',:]\n",
    "\n",
    "finedust3 = pd.concat([finedust3,grouped_temp],ignore_index=True, sort=False)\n"
   ]
  },
  {
   "cell_type": "code",
   "execution_count": 19,
   "metadata": {},
   "outputs": [
    {
     "name": "stderr",
     "output_type": "stream",
     "text": [
      "C:\\Users\\korea\\Anaconda3\\lib\\site-packages\\ipykernel_launcher.py:34: FutureWarning: Sorting because non-concatenation axis is not aligned. A future version\n",
      "of pandas will change to not sort by default.\n",
      "\n",
      "To accept the future behavior, pass 'sort=False'.\n",
      "\n",
      "To retain the current behavior and silence the warning, pass 'sort=True'.\n",
      "\n"
     ]
    }
   ],
   "source": [
    "# 관측소들을 행정동 기준으로 합치기 \n",
    "############## 관측소들을 행정동 기준으로 합치기#################\n",
    "#################################################################\n",
    "finedust4 = finedust3.iloc[0:2,:] # 한 행 데이터프레임에 변수명 가져오는 효율적인 방법. 나중엔 1~2행 지워줘야! \n",
    "finedust4 = finedust4.drop(['serial','spot'],axis=1) #\n",
    "\n",
    "# 동 리스트 \n",
    "dong_list = finedust3.dong.value_counts().index.tolist()\n",
    "\n",
    "# 동별로 합치기. \n",
    "for i in dong_list:\n",
    "    finedust_temp = finedust3.loc[finedust3.dong == i]\n",
    "    grouped1=finedust_temp['pm25'].groupby(finedust_temp['tm'])\n",
    "    grouped2=finedust_temp['pm10'].groupby(finedust_temp['tm'])\n",
    "    grouped3=finedust_temp['noise'].groupby(finedust_temp['tm'])\n",
    "    grouped4=finedust_temp['temp'].groupby(finedust_temp['tm'])\n",
    "    grouped5=finedust_temp['humi'].groupby(finedust_temp['tm'])\n",
    "    grouped6=finedust_temp['gu'].groupby(finedust_temp['tm'])\n",
    "   \n",
    "    # 그룹화한 것들을 평균 때리자.\n",
    "    grouped1.mean()\n",
    "    grouped2.mean()\n",
    "    grouped3.mean()\n",
    "    grouped4.mean()\n",
    "    grouped5.mean()\n",
    "    grouped6.mean()\n",
    "    \n",
    "    # 바로 위의 시리즈들을 합쳐서 데이터프레임으로 만들자\n",
    "    grouped_temp = pd.concat([grouped1.mean(),grouped2.mean(),grouped3.mean(),grouped4.mean(),grouped5.mean(),grouped6.mean()],axis=1)\n",
    "    \n",
    "    # tm 변수 살리고, dong 변수 추가 \n",
    "    grouped_temp=grouped_temp.reset_index()\n",
    "    grouped_temp['dong'] = i\n",
    "    finedust4 = pd.concat([finedust4,grouped_temp],axis=0,ignore_index=True)\n",
    "\n",
    "# for 루프 다 돌리고 1,2행 삭제\n",
    "finedust4 = finedust4.iloc[2:finedust4.shape[0],:]\n"
   ]
  },
  {
   "cell_type": "code",
   "execution_count": 20,
   "metadata": {},
   "outputs": [
    {
     "name": "stderr",
     "output_type": "stream",
     "text": [
      "C:\\Users\\korea\\Anaconda3\\lib\\site-packages\\ipykernel_launcher.py:41: FutureWarning: Sorting because non-concatenation axis is not aligned. A future version\n",
      "of pandas will change to not sort by default.\n",
      "\n",
      "To accept the future behavior, pass 'sort=False'.\n",
      "\n",
      "To retain the current behavior and silence the warning, pass 'sort=True'.\n",
      "\n"
     ]
    }
   ],
   "source": [
    "# 없는 행정동 보정하기: 주변 측정소의 평균 or 대치\n",
    "# 우선 없는 행정동과 spot에 대한 딕셔너리를 만들자\n",
    "update_dong = {'숭인1동':['창신동 17-9','숭인동 227-2'],\n",
    "              '창신2동':['창신동 17-9','창신동 170-3'],\n",
    "              '상계8동':['상계동 1102-17','상계동 692-2'],\n",
    "              '상계9동':['상계동 397-12','상계동 456-16','상계2동 407-39'],\n",
    "              '월계2동':['하계동 280','월계동 411-53'],\n",
    "              '중계1동':['중계동 364-17','상계동 1281'],\n",
    "              '중계4동':['중계동 364-17','상계동 1281','상계5동 156-203'],\n",
    "              '하계2동':['하계동 280','공릉동 385-5'],\n",
    "               '삼청동':['세종로 1-57','가회동 177-18','재동 95-2'],\n",
    "               '무악동': ['영천동 277']\n",
    "              }\n",
    "\n",
    "# 동별로 합치기.\n",
    "finedust6 = copy.deepcopy(finedust3)\n",
    "\n",
    "for key,val in update_dong.items():\n",
    "    finedust_temp = finedust6.loc[finedust6['spot'].apply(lambda x: x in val)]\n",
    "    grouped1=finedust_temp['pm25'].groupby(finedust_temp['tm'])\n",
    "    grouped2=finedust_temp['pm10'].groupby(finedust_temp['tm'])\n",
    "    grouped3=finedust_temp['noise'].groupby(finedust_temp['tm'])\n",
    "    grouped4=finedust_temp['temp'].groupby(finedust_temp['tm'])\n",
    "    grouped5=finedust_temp['humi'].groupby(finedust_temp['tm'])\n",
    "    grouped6=finedust_temp['gu'].groupby(finedust_temp['tm'])\n",
    "   \n",
    "    # 그룹화한 것들을 평균 때리자.\n",
    "    grouped1.mean()\n",
    "    grouped2.mean()\n",
    "    grouped3.mean()\n",
    "    grouped4.mean()\n",
    "    grouped5.mean()\n",
    "    grouped6.mean()\n",
    "    \n",
    "    # 바로 위의 시리즈들을 합쳐서 데이터프레임으로 만들자\n",
    "    grouped_temp = pd.concat([grouped1.mean(),grouped2.mean(),grouped3.mean(),grouped4.mean(),grouped5.mean(),grouped6.mean()],axis=1)\n",
    "    \n",
    "    # tm 변수 살리고, dong 변수 추가 \n",
    "    grouped_temp=grouped_temp.reset_index()\n",
    "    grouped_temp['dong'] = key\n",
    "    finedust6 = pd.concat([finedust6,grouped_temp],axis=0,ignore_index=True)\n",
    "\n",
    "finedust6 = finedust6.drop(['serial','spot'],axis=1) # serial, spot 변수 삭제 \n",
    "finedust4 = pd.concat([finedust4,finedust6],axis=0) # 기존 행정동 + 없던 행정동 \n"
   ]
  },
  {
   "cell_type": "code",
   "execution_count": 30,
   "metadata": {},
   "outputs": [
    {
     "data": {
      "text/html": [
       "<div>\n",
       "<style scoped>\n",
       "    .dataframe tbody tr th:only-of-type {\n",
       "        vertical-align: middle;\n",
       "    }\n",
       "\n",
       "    .dataframe tbody tr th {\n",
       "        vertical-align: top;\n",
       "    }\n",
       "\n",
       "    .dataframe thead th {\n",
       "        text-align: right;\n",
       "    }\n",
       "</style>\n",
       "<table border=\"1\" class=\"dataframe\">\n",
       "  <thead>\n",
       "    <tr style=\"text-align: right;\">\n",
       "      <th></th>\n",
       "      <th>dong</th>\n",
       "      <th>gu</th>\n",
       "      <th>humi</th>\n",
       "      <th>noise</th>\n",
       "      <th>pm10</th>\n",
       "      <th>pm25</th>\n",
       "      <th>temp</th>\n",
       "      <th>tm</th>\n",
       "    </tr>\n",
       "  </thead>\n",
       "  <tbody>\n",
       "    <tr>\n",
       "      <th>2</th>\n",
       "      <td>종로1,2,3,4가동</td>\n",
       "      <td>0</td>\n",
       "      <td>58.208333</td>\n",
       "      <td>53.041667</td>\n",
       "      <td>46.437500</td>\n",
       "      <td>24.395833</td>\n",
       "      <td>13.897917</td>\n",
       "      <td>201804010000</td>\n",
       "    </tr>\n",
       "    <tr>\n",
       "      <th>3</th>\n",
       "      <td>종로1,2,3,4가동</td>\n",
       "      <td>0</td>\n",
       "      <td>58.250000</td>\n",
       "      <td>50.916667</td>\n",
       "      <td>46.833333</td>\n",
       "      <td>24.833333</td>\n",
       "      <td>13.895833</td>\n",
       "      <td>201804010001</td>\n",
       "    </tr>\n",
       "    <tr>\n",
       "      <th>4</th>\n",
       "      <td>종로1,2,3,4가동</td>\n",
       "      <td>0</td>\n",
       "      <td>58.229167</td>\n",
       "      <td>52.875000</td>\n",
       "      <td>52.625000</td>\n",
       "      <td>27.645833</td>\n",
       "      <td>13.877083</td>\n",
       "      <td>201804010002</td>\n",
       "    </tr>\n",
       "    <tr>\n",
       "      <th>5</th>\n",
       "      <td>종로1,2,3,4가동</td>\n",
       "      <td>0</td>\n",
       "      <td>58.395833</td>\n",
       "      <td>51.208333</td>\n",
       "      <td>46.604167</td>\n",
       "      <td>24.750000</td>\n",
       "      <td>13.893750</td>\n",
       "      <td>201804010003</td>\n",
       "    </tr>\n",
       "    <tr>\n",
       "      <th>6</th>\n",
       "      <td>종로1,2,3,4가동</td>\n",
       "      <td>0</td>\n",
       "      <td>58.604167</td>\n",
       "      <td>52.229167</td>\n",
       "      <td>51.062500</td>\n",
       "      <td>26.979167</td>\n",
       "      <td>13.866667</td>\n",
       "      <td>201804010004</td>\n",
       "    </tr>\n",
       "  </tbody>\n",
       "</table>\n",
       "</div>"
      ],
      "text/plain": [
       "          dong  gu       humi      noise       pm10       pm25       temp  \\\n",
       "2  종로1,2,3,4가동   0  58.208333  53.041667  46.437500  24.395833  13.897917   \n",
       "3  종로1,2,3,4가동   0  58.250000  50.916667  46.833333  24.833333  13.895833   \n",
       "4  종로1,2,3,4가동   0  58.229167  52.875000  52.625000  27.645833  13.877083   \n",
       "5  종로1,2,3,4가동   0  58.395833  51.208333  46.604167  24.750000  13.893750   \n",
       "6  종로1,2,3,4가동   0  58.604167  52.229167  51.062500  26.979167  13.866667   \n",
       "\n",
       "             tm  \n",
       "2  201804010000  \n",
       "3  201804010001  \n",
       "4  201804010002  \n",
       "5  201804010003  \n",
       "6  201804010004  "
      ]
     },
     "execution_count": 30,
     "metadata": {},
     "output_type": "execute_result"
    }
   ],
   "source": [
    "finedust4.head()"
   ]
  },
  {
   "cell_type": "code",
   "execution_count": 29,
   "metadata": {},
   "outputs": [],
   "source": [
    "finedust4.to_csv('finedust4.csv')"
   ]
  },
  {
   "cell_type": "code",
   "execution_count": 2,
   "metadata": {},
   "outputs": [
    {
     "data": {
      "text/html": [
       "<div>\n",
       "<style scoped>\n",
       "    .dataframe tbody tr th:only-of-type {\n",
       "        vertical-align: middle;\n",
       "    }\n",
       "\n",
       "    .dataframe tbody tr th {\n",
       "        vertical-align: top;\n",
       "    }\n",
       "\n",
       "    .dataframe thead th {\n",
       "        text-align: right;\n",
       "    }\n",
       "</style>\n",
       "<table border=\"1\" class=\"dataframe\">\n",
       "  <thead>\n",
       "    <tr style=\"text-align: right;\">\n",
       "      <th></th>\n",
       "      <th>dong</th>\n",
       "      <th>gu</th>\n",
       "      <th>humi</th>\n",
       "      <th>noise</th>\n",
       "      <th>pm10</th>\n",
       "      <th>pm25</th>\n",
       "      <th>temp</th>\n",
       "      <th>tm</th>\n",
       "    </tr>\n",
       "  </thead>\n",
       "  <tbody>\n",
       "    <tr>\n",
       "      <th>0</th>\n",
       "      <td>종로1,2,3,4가동</td>\n",
       "      <td>0</td>\n",
       "      <td>58.208333</td>\n",
       "      <td>53.041667</td>\n",
       "      <td>46.437500</td>\n",
       "      <td>24.395833</td>\n",
       "      <td>13.897917</td>\n",
       "      <td>201804010000</td>\n",
       "    </tr>\n",
       "    <tr>\n",
       "      <th>1</th>\n",
       "      <td>종로1,2,3,4가동</td>\n",
       "      <td>0</td>\n",
       "      <td>58.250000</td>\n",
       "      <td>50.916667</td>\n",
       "      <td>46.833333</td>\n",
       "      <td>24.833333</td>\n",
       "      <td>13.895833</td>\n",
       "      <td>201804010001</td>\n",
       "    </tr>\n",
       "    <tr>\n",
       "      <th>2</th>\n",
       "      <td>종로1,2,3,4가동</td>\n",
       "      <td>0</td>\n",
       "      <td>58.229167</td>\n",
       "      <td>52.875000</td>\n",
       "      <td>52.625000</td>\n",
       "      <td>27.645833</td>\n",
       "      <td>13.877083</td>\n",
       "      <td>201804010002</td>\n",
       "    </tr>\n",
       "    <tr>\n",
       "      <th>3</th>\n",
       "      <td>종로1,2,3,4가동</td>\n",
       "      <td>0</td>\n",
       "      <td>58.395833</td>\n",
       "      <td>51.208333</td>\n",
       "      <td>46.604167</td>\n",
       "      <td>24.750000</td>\n",
       "      <td>13.893750</td>\n",
       "      <td>201804010003</td>\n",
       "    </tr>\n",
       "    <tr>\n",
       "      <th>4</th>\n",
       "      <td>종로1,2,3,4가동</td>\n",
       "      <td>0</td>\n",
       "      <td>58.604167</td>\n",
       "      <td>52.229167</td>\n",
       "      <td>51.062500</td>\n",
       "      <td>26.979167</td>\n",
       "      <td>13.866667</td>\n",
       "      <td>201804010004</td>\n",
       "    </tr>\n",
       "  </tbody>\n",
       "</table>\n",
       "</div>"
      ],
      "text/plain": [
       "          dong  gu       humi      noise       pm10       pm25       temp  \\\n",
       "0  종로1,2,3,4가동   0  58.208333  53.041667  46.437500  24.395833  13.897917   \n",
       "1  종로1,2,3,4가동   0  58.250000  50.916667  46.833333  24.833333  13.895833   \n",
       "2  종로1,2,3,4가동   0  58.229167  52.875000  52.625000  27.645833  13.877083   \n",
       "3  종로1,2,3,4가동   0  58.395833  51.208333  46.604167  24.750000  13.893750   \n",
       "4  종로1,2,3,4가동   0  58.604167  52.229167  51.062500  26.979167  13.866667   \n",
       "\n",
       "             tm  \n",
       "0  201804010000  \n",
       "1  201804010001  \n",
       "2  201804010002  \n",
       "3  201804010003  \n",
       "4  201804010004  "
      ]
     },
     "execution_count": 2,
     "metadata": {},
     "output_type": "execute_result"
    }
   ],
   "source": [
    "# 날짜화 시킬 때 메모리에러 뜨기에 저장하고 껐다 켜서 시작하기\n",
    "finedust4 = pd.read_csv('finedust4.csv')\n",
    "finedust4 = finedust4.drop('Unnamed: 0',axis=1)\n",
    "finedust4.head()"
   ]
  },
  {
   "cell_type": "code",
   "execution_count": 3,
   "metadata": {},
   "outputs": [],
   "source": [
    "# tm 변수를 날짜화 시키고 인덱스로 만들어서 월별, 일별, 시간별 데이터 만들기\n",
    "finedust5= copy.deepcopy(finedust4)\n",
    "finedust5['tm']= finedust5['tm'].apply(str)\n",
    "finedust5['tm'] = pd.to_datetime(finedust5['tm'])\n",
    "finedust5.set_index('tm',inplace=True)\n"
   ]
  },
  {
   "cell_type": "code",
   "execution_count": 9,
   "metadata": {},
   "outputs": [],
   "source": [
    "# finedust3 가져오기. \n",
    "finedust3 = pd.read_csv('finedust3.csv',encoding='euc-kr')\n",
    "finedust3 = finedust3.drop('Unnamed: 0',axis=1)\n"
   ]
  },
  {
   "cell_type": "code",
   "execution_count": 10,
   "metadata": {},
   "outputs": [
    {
     "data": {
      "text/html": [
       "<div>\n",
       "<style scoped>\n",
       "    .dataframe tbody tr th:only-of-type {\n",
       "        vertical-align: middle;\n",
       "    }\n",
       "\n",
       "    .dataframe tbody tr th {\n",
       "        vertical-align: top;\n",
       "    }\n",
       "\n",
       "    .dataframe thead th {\n",
       "        text-align: right;\n",
       "    }\n",
       "</style>\n",
       "<table border=\"1\" class=\"dataframe\">\n",
       "  <thead>\n",
       "    <tr style=\"text-align: right;\">\n",
       "      <th></th>\n",
       "      <th>tm</th>\n",
       "      <th>serial</th>\n",
       "      <th>pm10</th>\n",
       "      <th>noise</th>\n",
       "      <th>temp</th>\n",
       "      <th>humi</th>\n",
       "      <th>pm25</th>\n",
       "      <th>spot</th>\n",
       "      <th>gu</th>\n",
       "      <th>dong</th>\n",
       "    </tr>\n",
       "  </thead>\n",
       "  <tbody>\n",
       "    <tr>\n",
       "      <th>0</th>\n",
       "      <td>201805070000</td>\n",
       "      <td>V10O1610102</td>\n",
       "      <td>NaN</td>\n",
       "      <td>NaN</td>\n",
       "      <td>NaN</td>\n",
       "      <td>NaN</td>\n",
       "      <td>NaN</td>\n",
       "      <td>하계동 251</td>\n",
       "      <td>1</td>\n",
       "      <td>하계1동</td>\n",
       "    </tr>\n",
       "  </tbody>\n",
       "</table>\n",
       "</div>"
      ],
      "text/plain": [
       "             tm       serial  pm10  noise  temp  humi  pm25     spot  gu  dong\n",
       "0  201805070000  V10O1610102   NaN    NaN   NaN   NaN   NaN  하계동 251   1  하계1동"
      ]
     },
     "execution_count": 10,
     "metadata": {},
     "output_type": "execute_result"
    }
   ],
   "source": [
    "finedust3.head(1)"
   ]
  },
  {
   "cell_type": "code",
   "execution_count": 13,
   "metadata": {},
   "outputs": [
    {
     "data": {
      "text/html": [
       "<div>\n",
       "<style scoped>\n",
       "    .dataframe tbody tr th:only-of-type {\n",
       "        vertical-align: middle;\n",
       "    }\n",
       "\n",
       "    .dataframe tbody tr th {\n",
       "        vertical-align: top;\n",
       "    }\n",
       "\n",
       "    .dataframe thead th {\n",
       "        text-align: right;\n",
       "    }\n",
       "</style>\n",
       "<table border=\"1\" class=\"dataframe\">\n",
       "  <thead>\n",
       "    <tr style=\"text-align: right;\">\n",
       "      <th></th>\n",
       "      <th>dong</th>\n",
       "      <th>gu</th>\n",
       "      <th>humi</th>\n",
       "      <th>noise</th>\n",
       "      <th>pm10</th>\n",
       "      <th>pm25</th>\n",
       "      <th>temp</th>\n",
       "    </tr>\n",
       "  </thead>\n",
       "  <tbody>\n",
       "    <tr>\n",
       "      <th>2018-04-30 00:00:00</th>\n",
       "      <td>종로1,2,3,4가동</td>\n",
       "      <td>0.0</td>\n",
       "      <td>46.55255</td>\n",
       "      <td>53.270944</td>\n",
       "      <td>48.335996</td>\n",
       "      <td>24.81753</td>\n",
       "      <td>14.21468</td>\n",
       "    </tr>\n",
       "  </tbody>\n",
       "</table>\n",
       "</div>"
      ],
      "text/plain": [
       "                            dong   gu      humi      noise       pm10  \\\n",
       "2018-04-30 00:00:00  종로1,2,3,4가동  0.0  46.55255  53.270944  48.335996   \n",
       "\n",
       "                         pm25      temp  \n",
       "2018-04-30 00:00:00  24.81753  14.21468  "
      ]
     },
     "execution_count": 13,
     "metadata": {},
     "output_type": "execute_result"
    }
   ],
   "source": [
    "finedust_month.head(1)"
   ]
  },
  {
   "cell_type": "markdown",
   "metadata": {},
   "source": [
    "## 4. 월별, 일별, 시간별 미세먼지 데이터 생성"
   ]
  },
  {
   "cell_type": "code",
   "execution_count": 11,
   "metadata": {},
   "outputs": [
    {
     "name": "stderr",
     "output_type": "stream",
     "text": [
      "C:\\Users\\korea\\Anaconda3\\lib\\site-packages\\ipykernel_launcher.py:20: FutureWarning: Sorting because non-concatenation axis is not aligned. A future version\n",
      "of pandas will change to not sort by default.\n",
      "\n",
      "To accept the future behavior, pass 'sort=False'.\n",
      "\n",
      "To retain the current behavior and silence the warning, pass 'sort=True'.\n",
      "\n",
      "C:\\Users\\korea\\Anaconda3\\lib\\site-packages\\ipykernel_launcher.py:40: FutureWarning: Sorting because non-concatenation axis is not aligned. A future version\n",
      "of pandas will change to not sort by default.\n",
      "\n",
      "To accept the future behavior, pass 'sort=False'.\n",
      "\n",
      "To retain the current behavior and silence the warning, pass 'sort=True'.\n",
      "\n",
      "C:\\Users\\korea\\Anaconda3\\lib\\site-packages\\ipykernel_launcher.py:60: FutureWarning: Sorting because non-concatenation axis is not aligned. A future version\n",
      "of pandas will change to not sort by default.\n",
      "\n",
      "To accept the future behavior, pass 'sort=False'.\n",
      "\n",
      "To retain the current behavior and silence the warning, pass 'sort=True'.\n",
      "\n"
     ]
    }
   ],
   "source": [
    "\n",
    "############## 월별로 합치기 #################\n",
    "#################################################################\n",
    "\n",
    "finedust_month = finedust3.iloc[0:2,:] # 한 행 데이터프레임에 변수명 가져오는 효율적인 방법. 나중엔 1~2행 지워줘야! \n",
    "finedust_month = finedust_month.drop(['serial','spot'],axis=1) #\n",
    "\n",
    "# 동 리스트 \n",
    "dong_list = finedust4.dong.value_counts().index.tolist()\n",
    "dong_list\n",
    "\n",
    "# 우선, 월별로 합쳐보자.\n",
    "for i in dong_list:\n",
    "    finedust_temp = copy.deepcopy(finedust5)\n",
    "    finedust_temp = finedust_temp.loc[finedust_temp.dong == i]\n",
    "    finedust_temp = finedust_temp.resample(rule='M').mean()\n",
    "    \n",
    "    # 동 변수 넣어주기\n",
    "    finedust_temp['dong'] = i\n",
    "    finedust_month = pd.concat([finedust_month,finedust_temp],axis=0,ignore_index=False)\n",
    "\n",
    "# for 루프 다 돌리고 1,2행 삭제\n",
    "finedust_month = finedust_month.iloc[2:finedust_month.shape[0],:]\n",
    "finedust_month = finedust_month.drop(['tm'],axis=1)\n",
    "\n",
    "\n",
    "############## 일별로 합치기#################\n",
    "#################################################################\n",
    "finedust_day = finedust3.iloc[0:2,:] # 한 행 데이터프레임에 변수명 가져오는 효율적인 방법. 나중엔 1~2행 지워줘야! \n",
    "finedust_day = finedust_day.drop(['serial','spot'],axis=1) #\n",
    "\n",
    "# 동별로 합치기. \n",
    "for i in dong_list:\n",
    "    finedust_temp = copy.deepcopy(finedust5)\n",
    "    finedust_temp = finedust_temp.loc[finedust_temp.dong == i]\n",
    "    finedust_temp = finedust_temp.resample(rule='D').mean()\n",
    "    \n",
    "    # 동 변수 넣어주기\n",
    "    finedust_temp['dong'] = i\n",
    "    finedust_day = pd.concat([finedust_day,finedust_temp],axis=0,ignore_index=False)\n",
    "\n",
    "# for 루프 다 돌리고 1,2행 삭제\n",
    "finedust_day = finedust_day.iloc[2:finedust_day.shape[0],:]\n",
    "finedust_day = finedust_day.drop(['tm'],axis=1)\n",
    "\n",
    "\n",
    "############## 시간별로 합치기#################\n",
    "#################################################################\n",
    "finedust_hour = finedust3.iloc[0:2,:] # 한 행 데이터프레임에 변수명 가져오는 효율적인 방법. 나중엔 1~2행 지워줘야! \n",
    "finedust_hour = finedust_hour.drop(['serial','spot'],axis=1) #\n",
    "\n",
    "# 동별로 합치기. \n",
    "for i in dong_list:\n",
    "    finedust_temp = copy.deepcopy(finedust5)\n",
    "    finedust_temp = finedust_temp.loc[finedust_temp.dong == i]\n",
    "    finedust_temp = finedust_temp.resample(rule='H').mean()\n",
    "    \n",
    "    # 동 변수 넣어주기\n",
    "    finedust_temp['dong'] = i\n",
    "    finedust_hour = pd.concat([finedust_hour,finedust_temp],axis=0,ignore_index=False)\n",
    "\n",
    "# for 루프 다 돌리고 1,2행 삭제\n",
    "finedust_hour = finedust_hour.iloc[2:finedust_hour.shape[0],:]\n",
    "finedust_hour = finedust_hour.drop(['tm'],axis=1)\n",
    "\n",
    "\n"
   ]
  },
  {
   "cell_type": "code",
   "execution_count": 15,
   "metadata": {},
   "outputs": [],
   "source": [
    "# index로 들어간 tm을 살리고\n",
    "finedust_month=finedust_month.reset_index()\n",
    "finedust_day=finedust_day.reset_index()\n",
    "finedust_hour=finedust_hour.reset_index()\n"
   ]
  },
  {
   "cell_type": "code",
   "execution_count": 18,
   "metadata": {},
   "outputs": [],
   "source": [
    "# index라는 이름을 tm으로 바꾸고. \n",
    "finedust_month.rename(columns = {'index':'tm'},inplace=True)\n",
    "finedust_day.rename(columns = {'index':'tm'},inplace=True)\n",
    "finedust_hour.rename(columns = {'index':'tm'},inplace=True)\n"
   ]
  },
  {
   "cell_type": "code",
   "execution_count": 19,
   "metadata": {},
   "outputs": [
    {
     "data": {
      "text/html": [
       "<div>\n",
       "<style scoped>\n",
       "    .dataframe tbody tr th:only-of-type {\n",
       "        vertical-align: middle;\n",
       "    }\n",
       "\n",
       "    .dataframe tbody tr th {\n",
       "        vertical-align: top;\n",
       "    }\n",
       "\n",
       "    .dataframe thead th {\n",
       "        text-align: right;\n",
       "    }\n",
       "</style>\n",
       "<table border=\"1\" class=\"dataframe\">\n",
       "  <thead>\n",
       "    <tr style=\"text-align: right;\">\n",
       "      <th></th>\n",
       "      <th>tm</th>\n",
       "      <th>dong</th>\n",
       "      <th>gu</th>\n",
       "      <th>humi</th>\n",
       "      <th>noise</th>\n",
       "      <th>pm10</th>\n",
       "      <th>pm25</th>\n",
       "      <th>temp</th>\n",
       "    </tr>\n",
       "  </thead>\n",
       "  <tbody>\n",
       "    <tr>\n",
       "      <th>0</th>\n",
       "      <td>2018-04-30</td>\n",
       "      <td>종로1,2,3,4가동</td>\n",
       "      <td>0.0</td>\n",
       "      <td>46.55255</td>\n",
       "      <td>53.270944</td>\n",
       "      <td>48.335996</td>\n",
       "      <td>24.81753</td>\n",
       "      <td>14.21468</td>\n",
       "    </tr>\n",
       "  </tbody>\n",
       "</table>\n",
       "</div>"
      ],
      "text/plain": [
       "          tm         dong   gu      humi      noise       pm10      pm25  \\\n",
       "0 2018-04-30  종로1,2,3,4가동  0.0  46.55255  53.270944  48.335996  24.81753   \n",
       "\n",
       "       temp  \n",
       "0  14.21468  "
      ]
     },
     "execution_count": 19,
     "metadata": {},
     "output_type": "execute_result"
    }
   ],
   "source": [
    "finedust_month.head(1)"
   ]
  },
  {
   "cell_type": "code",
   "execution_count": 20,
   "metadata": {},
   "outputs": [],
   "source": [
    "### 요일 변수 추가 . 0: 월요일~ 6: 일요일\n",
    "finedust_day['yoil'] = finedust_day.tm.apply(lambda x : x.weekday())\n",
    "finedust_hour['yoil'] = finedust_hour.tm.apply(lambda x : x.weekday())\n"
   ]
  },
  {
   "cell_type": "code",
   "execution_count": 21,
   "metadata": {},
   "outputs": [],
   "source": [
    "# finedust2.dong.loc[finedust2.dong=='종로 1,2,3,4가동'] = '종로1,2,3,4가동'\n",
    "# finedust_temp = finedust6.loc[finedust6['spot'].apply(lambda x: x in val)]\n",
    "## 공휴일 변수 추가. 0이면 평일, 1이면 공휴일(공휴일,토,일). \n",
    "# finedust_day['weekend'] = 0\n",
    "holiday = ['2018-05-01','2018-05-07','2018-05-22','2018-06-06','2018-06-13','2018-08-15',\n",
    "      '2018-09-24','2018-09-25','2018-09-26','2018-10-03','2018-10-09','2018-12-25',\n",
    "      '2019-01-01','2019-02-04','2019-02-05','2019-02-06','2019-03-01']\n",
    "holiday = pd.to_datetime(holiday)\n",
    "\n",
    "finedust_day['weekend'] = finedust_day['tm'].apply(lambda x: 1 if (x.weekday() >= 5 ) or (x in holiday) else 0)\n",
    "finedust_hour['weekend'] = finedust_hour['tm'].apply(lambda x: 1 if (x.weekday() >= 5) or (x.date() in holiday) else 0)"
   ]
  },
  {
   "cell_type": "code",
   "execution_count": 22,
   "metadata": {},
   "outputs": [],
   "source": [
    "####### 미세먼지 등급별로 만들기. 0,1,2,3으로 좋음 보통 나쁨 매우나쁨 나눔. \n",
    "# 월별인데 미세먼지 등급기준을 한국 기준으로 그냥 띡 하는게 맞나..? \n",
    "finedust_month['pm25_class'] = finedust_month['pm25'].apply(lambda x : 3 if x >= 75\n",
    "                                                           else 2 if x >=35\n",
    "                                                           else 1 if x >=15\n",
    "                                                           else 0 if x >=0\n",
    "                                                           else None)\n",
    "finedust_month['pm10_class'] = finedust_month['pm10'].apply(lambda x : 3 if x >= 150\n",
    "                                                           else 2 if x >=80\n",
    "                                                           else 1 if x >=30\n",
    "                                                           else 0 if x >=0\n",
    "                                                           else None)\n",
    "# 일별 데이터\n",
    "finedust_day['pm25_class'] = finedust_day['pm25'].apply(lambda x : 3 if x >= 75\n",
    "                                                           else 2 if x >=35\n",
    "                                                           else 1 if x >=15\n",
    "                                                           else 0 if x >=0\n",
    "                                                           else None)\n",
    "finedust_day['pm10_class'] = finedust_day['pm10'].apply(lambda x : 3 if x >= 150\n",
    "                                                           else 2 if x >=80\n",
    "                                                           else 1 if x >=30\n",
    "                                                           else 0 if x >=0\n",
    "                                                           else None)\n",
    "# 시간별 데이터 \n",
    "finedust_hour['pm25_class'] = finedust_hour['pm25'].apply(lambda x : 3 if x >= 75\n",
    "                                                           else 2 if x >=35\n",
    "                                                           else 1 if x >=15\n",
    "                                                           else 0 if x >=0\n",
    "                                                           else None)\n",
    "finedust_hour['pm10_class'] = finedust_hour['pm10'].apply(lambda x : 3 if x >= 150\n",
    "                                                           else 2 if x >=80\n",
    "                                                           else 1 if x >=30\n",
    "                                                           else 0 if x >=0\n",
    "                                                           else None)\n"
   ]
  },
  {
   "cell_type": "code",
   "execution_count": 23,
   "metadata": {},
   "outputs": [],
   "source": [
    "#### 동 공백 제거, 없는 동 넣기, 요일/주말 변수, 미세먼지 등급 기준\n",
    "# 저장하기\n",
    "finedust_month.to_csv('finedust_month1.csv',encoding='euc-kr')\n",
    "finedust_day.to_csv('finedust_day1.csv',encoding='euc-kr')\n",
    "finedust_hour.to_csv('finedust_hour1.csv',encoding='euc-kr')"
   ]
  },
  {
   "cell_type": "code",
   "execution_count": null,
   "metadata": {},
   "outputs": [],
   "source": []
  },
  {
   "cell_type": "code",
   "execution_count": null,
   "metadata": {},
   "outputs": [],
   "source": []
  },
  {
   "cell_type": "code",
   "execution_count": null,
   "metadata": {},
   "outputs": [],
   "source": []
  }
 ],
 "metadata": {
  "kernelspec": {
   "display_name": "Python 3",
   "language": "python",
   "name": "python3"
  },
  "language_info": {
   "codemirror_mode": {
    "name": "ipython",
    "version": 3
   },
   "file_extension": ".py",
   "mimetype": "text/x-python",
   "name": "python",
   "nbconvert_exporter": "python",
   "pygments_lexer": "ipython3",
   "version": "3.7.1"
  }
 },
 "nbformat": 4,
 "nbformat_minor": 2
}
